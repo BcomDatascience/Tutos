{
 "cells": [
  {
   "cell_type": "markdown",
   "metadata": {},
   "source": [
    "### Notebook : Analyse et Manipulation de Données"
   ]
  },
  {
   "cell_type": "markdown",
   "metadata": {},
   "source": [
    "Le jeu de données contenu dans data.csv est un ensemble de relevés de vélos partagés (type\n",
    "Vélib). On cherche à prédire le nombre de vélos loués par heure dans la ville (variable count ). Voici\n",
    "une description des données :"
   ]
  },
  {
   "cell_type": "markdown",
   "metadata": {},
   "source": [
    "**datetime** - date et heure du relevé <br/>\n",
    "**season** - 1 = printemps , 2 = été, 3 = automne, 4 = hiver <br/>\n",
    "**holiday** – indique si le jour est un jour de vacances scolaires <br/>\n",
    "**workingday** - indique si le jour est travaillé (ni weekend ni vacances) <br/>\n",
    "**weather** - 1: Dégagé à nuageux, 2 : Brouillard, 3 : Légère pluie ou neige, 4 : Fortes averses ou neiges <br/>\n",
    "**temp** – température en degrés Celsius <br/>\n",
    "**atemp** – température ressentie en degrés Celsius <br/>\n",
    "**humidity** – taux d’humidité <br/>\n",
    "**windspeed** – vitesse du vent <br/>\n",
    "**casual** - nombre de locations d’usagers non abonnés <br/>\n",
    "**registered** – nombre de locations d’usagers abonnés <br/>\n",
    "**count** – nombre total de locations de vélos <br/>"
   ]
  },
  {
   "cell_type": "markdown",
   "metadata": {},
   "source": [
    "## Partie I – Statistiques descriptives"
   ]
  },
  {
   "cell_type": "markdown",
   "metadata": {},
   "source": [
    "Regardons les facteurs qui semblent influencer la demande en vélos"
   ]
  },
  {
   "cell_type": "markdown",
   "metadata": {},
   "source": [
    "### chargement des données et transformation de quelques features"
   ]
  },
  {
   "cell_type": "code",
   "execution_count": 86,
   "metadata": {},
   "outputs": [
    {
     "name": "stdout",
     "output_type": "stream",
     "text": [
      "3.7.3 (default, Mar 27 2019, 17:13:21) [MSC v.1915 64 bit (AMD64)]\n"
     ]
    }
   ],
   "source": [
    "import sys\n",
    "print(sys.version)"
   ]
  },
  {
   "cell_type": "code",
   "execution_count": 87,
   "metadata": {},
   "outputs": [],
   "source": [
    "import numpy as np\n",
    "import pandas as pd\n",
    "import matplotlib.pyplot as plt"
   ]
  },
  {
   "cell_type": "code",
   "execution_count": 88,
   "metadata": {},
   "outputs": [],
   "source": [
    "data=pd.read_csv(\"data.csv\",sep=\";\")\n",
    "\n",
    "# formatter la colonne datetime\n",
    "data[\"datetime\"]=pd.to_datetime(data[\"datetime\"],format=\"%d/%m/%Y %H:%M\")\n",
    "\n",
    "# création d'une nouvelle colonne hour (de 0 à 23)\n",
    "data['hour'] = data[\"datetime\"].apply(lambda x: x.hour)\n",
    "data[\"night\"]=data[\"datetime\"].apply(lambda x: x.hour in (23,0,1,2,3,4,5)).astype(int)\n",
    "data[\"morning\"]=data[\"datetime\"].apply(lambda x: x.hour in (6,7,8,9,10)).astype(int)\n",
    "data[\"afternoon\"]=data[\"datetime\"].apply(lambda x: x.hour in (11,12,13,14,15)).astype(int)\n",
    "data[\"afterwork\"]=data[\"datetime\"].apply(lambda x: x.hour in (16,17,18,19)).astype(int) \n",
    "data[\"evening\"]=data[\"datetime\"].apply(lambda x: x.hour in (20,21,22)).astype(int)\n",
    "\n",
    "# les saisons indiquées par la colonne season ne correspondaient pas à la \n",
    "# réalité (le printemps ne démarre pas le 1er janvier)\n",
    "# création de 4 colonnes (dummy variables) représentant chaque saison\n",
    "\n",
    "data[\"winter\"]=data[\"datetime\"].apply(lambda x: x.month in (12,1,2)).astype(int)\n",
    "data[\"spring\"]=data[\"datetime\"].apply(lambda x: x.month in (3,4,5)).astype(int)\n",
    "data[\"summer\"]=data[\"datetime\"].apply(lambda x: x.month in (6,7,8)).astype(int) \n",
    "data[\"autumn\"]=data[\"datetime\"].apply(lambda x: x.month in (9,10,11)).astype(int)\n",
    "\n",
    "#jours de la semaine : 0 est lundi, 6 est dimanche\n",
    "data['dayofweek'] = data.datetime.dt.dayofweek\n",
    "\n",
    "# dummy variables pour la colonne weather\n",
    "dummy = pd.get_dummies(data[\"weather\"], prefix=\"weather\", dummy_na=False)\n",
    "dummy.columns = [\"beau_temps\",\"nuageux\",\"pluie_neige\",\"mauvais_temps\"]\n",
    "data = data.join(dummy.loc[:, :])\n",
    "\n",
    "# création d'une variable (\"timediff\") qui compte le nombre de jours écoulés depuis le 1er janvier 2011\n",
    "earliest = data[\"datetime\"].min()\n",
    "data['timediff'] = data['datetime'].apply(lambda x: x - earliest).astype('timedelta64[D]').astype(int) + 1"
   ]
  },
  {
   "cell_type": "code",
   "execution_count": 89,
   "metadata": {},
   "outputs": [
    {
     "data": {
      "text/html": [
       "<div>\n",
       "<style scoped>\n",
       "    .dataframe tbody tr th:only-of-type {\n",
       "        vertical-align: middle;\n",
       "    }\n",
       "\n",
       "    .dataframe tbody tr th {\n",
       "        vertical-align: top;\n",
       "    }\n",
       "\n",
       "    .dataframe thead th {\n",
       "        text-align: right;\n",
       "    }\n",
       "</style>\n",
       "<table border=\"1\" class=\"dataframe\">\n",
       "  <thead>\n",
       "    <tr style=\"text-align: right;\">\n",
       "      <th></th>\n",
       "      <th>datetime</th>\n",
       "      <th>season</th>\n",
       "      <th>holiday</th>\n",
       "      <th>workingday</th>\n",
       "      <th>weather</th>\n",
       "      <th>temp</th>\n",
       "      <th>atemp</th>\n",
       "      <th>humidity</th>\n",
       "      <th>windspeed</th>\n",
       "      <th>casual</th>\n",
       "      <th>...</th>\n",
       "      <th>winter</th>\n",
       "      <th>spring</th>\n",
       "      <th>summer</th>\n",
       "      <th>autumn</th>\n",
       "      <th>dayofweek</th>\n",
       "      <th>beau_temps</th>\n",
       "      <th>nuageux</th>\n",
       "      <th>pluie_neige</th>\n",
       "      <th>mauvais_temps</th>\n",
       "      <th>timediff</th>\n",
       "    </tr>\n",
       "  </thead>\n",
       "  <tbody>\n",
       "    <tr>\n",
       "      <th>0</th>\n",
       "      <td>2011-01-01 00:00:00</td>\n",
       "      <td>1</td>\n",
       "      <td>0</td>\n",
       "      <td>0</td>\n",
       "      <td>1</td>\n",
       "      <td>9.84</td>\n",
       "      <td>14.395</td>\n",
       "      <td>81</td>\n",
       "      <td>0.0</td>\n",
       "      <td>3</td>\n",
       "      <td>...</td>\n",
       "      <td>1</td>\n",
       "      <td>0</td>\n",
       "      <td>0</td>\n",
       "      <td>0</td>\n",
       "      <td>5</td>\n",
       "      <td>1</td>\n",
       "      <td>0</td>\n",
       "      <td>0</td>\n",
       "      <td>0</td>\n",
       "      <td>1</td>\n",
       "    </tr>\n",
       "    <tr>\n",
       "      <th>1</th>\n",
       "      <td>2011-01-01 01:00:00</td>\n",
       "      <td>1</td>\n",
       "      <td>0</td>\n",
       "      <td>0</td>\n",
       "      <td>1</td>\n",
       "      <td>9.02</td>\n",
       "      <td>13.635</td>\n",
       "      <td>80</td>\n",
       "      <td>0.0</td>\n",
       "      <td>8</td>\n",
       "      <td>...</td>\n",
       "      <td>1</td>\n",
       "      <td>0</td>\n",
       "      <td>0</td>\n",
       "      <td>0</td>\n",
       "      <td>5</td>\n",
       "      <td>1</td>\n",
       "      <td>0</td>\n",
       "      <td>0</td>\n",
       "      <td>0</td>\n",
       "      <td>1</td>\n",
       "    </tr>\n",
       "    <tr>\n",
       "      <th>2</th>\n",
       "      <td>2011-01-01 02:00:00</td>\n",
       "      <td>1</td>\n",
       "      <td>0</td>\n",
       "      <td>0</td>\n",
       "      <td>1</td>\n",
       "      <td>9.02</td>\n",
       "      <td>13.635</td>\n",
       "      <td>80</td>\n",
       "      <td>0.0</td>\n",
       "      <td>5</td>\n",
       "      <td>...</td>\n",
       "      <td>1</td>\n",
       "      <td>0</td>\n",
       "      <td>0</td>\n",
       "      <td>0</td>\n",
       "      <td>5</td>\n",
       "      <td>1</td>\n",
       "      <td>0</td>\n",
       "      <td>0</td>\n",
       "      <td>0</td>\n",
       "      <td>1</td>\n",
       "    </tr>\n",
       "  </tbody>\n",
       "</table>\n",
       "<p>3 rows × 28 columns</p>\n",
       "</div>"
      ],
      "text/plain": [
       "             datetime  season  holiday  workingday  weather  temp   atemp  \\\n",
       "0 2011-01-01 00:00:00       1        0           0        1  9.84  14.395   \n",
       "1 2011-01-01 01:00:00       1        0           0        1  9.02  13.635   \n",
       "2 2011-01-01 02:00:00       1        0           0        1  9.02  13.635   \n",
       "\n",
       "   humidity  windspeed  casual  ...  winter  spring  summer  autumn  \\\n",
       "0        81        0.0       3  ...       1       0       0       0   \n",
       "1        80        0.0       8  ...       1       0       0       0   \n",
       "2        80        0.0       5  ...       1       0       0       0   \n",
       "\n",
       "   dayofweek  beau_temps  nuageux  pluie_neige  mauvais_temps  timediff  \n",
       "0          5           1        0            0              0         1  \n",
       "1          5           1        0            0              0         1  \n",
       "2          5           1        0            0              0         1  \n",
       "\n",
       "[3 rows x 28 columns]"
      ]
     },
     "execution_count": 89,
     "metadata": {},
     "output_type": "execute_result"
    }
   ],
   "source": [
    "data.head(3)"
   ]
  },
  {
   "cell_type": "code",
   "execution_count": 90,
   "metadata": {},
   "outputs": [
    {
     "data": {
      "text/html": [
       "<div>\n",
       "<style scoped>\n",
       "    .dataframe tbody tr th:only-of-type {\n",
       "        vertical-align: middle;\n",
       "    }\n",
       "\n",
       "    .dataframe tbody tr th {\n",
       "        vertical-align: top;\n",
       "    }\n",
       "\n",
       "    .dataframe thead th {\n",
       "        text-align: right;\n",
       "    }\n",
       "</style>\n",
       "<table border=\"1\" class=\"dataframe\">\n",
       "  <thead>\n",
       "    <tr style=\"text-align: right;\">\n",
       "      <th></th>\n",
       "      <th>datetime</th>\n",
       "      <th>season</th>\n",
       "      <th>holiday</th>\n",
       "      <th>workingday</th>\n",
       "      <th>weather</th>\n",
       "      <th>temp</th>\n",
       "      <th>atemp</th>\n",
       "      <th>humidity</th>\n",
       "      <th>windspeed</th>\n",
       "      <th>casual</th>\n",
       "      <th>...</th>\n",
       "      <th>winter</th>\n",
       "      <th>spring</th>\n",
       "      <th>summer</th>\n",
       "      <th>autumn</th>\n",
       "      <th>dayofweek</th>\n",
       "      <th>beau_temps</th>\n",
       "      <th>nuageux</th>\n",
       "      <th>pluie_neige</th>\n",
       "      <th>mauvais_temps</th>\n",
       "      <th>timediff</th>\n",
       "    </tr>\n",
       "  </thead>\n",
       "  <tbody>\n",
       "    <tr>\n",
       "      <th>0</th>\n",
       "      <td>2011-01-01 00:00:00</td>\n",
       "      <td>1</td>\n",
       "      <td>0</td>\n",
       "      <td>0</td>\n",
       "      <td>1</td>\n",
       "      <td>9.84</td>\n",
       "      <td>14.395</td>\n",
       "      <td>81</td>\n",
       "      <td>0.0</td>\n",
       "      <td>3</td>\n",
       "      <td>...</td>\n",
       "      <td>1</td>\n",
       "      <td>0</td>\n",
       "      <td>0</td>\n",
       "      <td>0</td>\n",
       "      <td>5</td>\n",
       "      <td>1</td>\n",
       "      <td>0</td>\n",
       "      <td>0</td>\n",
       "      <td>0</td>\n",
       "      <td>1</td>\n",
       "    </tr>\n",
       "    <tr>\n",
       "      <th>1</th>\n",
       "      <td>2011-01-01 01:00:00</td>\n",
       "      <td>1</td>\n",
       "      <td>0</td>\n",
       "      <td>0</td>\n",
       "      <td>1</td>\n",
       "      <td>9.02</td>\n",
       "      <td>13.635</td>\n",
       "      <td>80</td>\n",
       "      <td>0.0</td>\n",
       "      <td>8</td>\n",
       "      <td>...</td>\n",
       "      <td>1</td>\n",
       "      <td>0</td>\n",
       "      <td>0</td>\n",
       "      <td>0</td>\n",
       "      <td>5</td>\n",
       "      <td>1</td>\n",
       "      <td>0</td>\n",
       "      <td>0</td>\n",
       "      <td>0</td>\n",
       "      <td>1</td>\n",
       "    </tr>\n",
       "    <tr>\n",
       "      <th>2</th>\n",
       "      <td>2011-01-01 02:00:00</td>\n",
       "      <td>1</td>\n",
       "      <td>0</td>\n",
       "      <td>0</td>\n",
       "      <td>1</td>\n",
       "      <td>9.02</td>\n",
       "      <td>13.635</td>\n",
       "      <td>80</td>\n",
       "      <td>0.0</td>\n",
       "      <td>5</td>\n",
       "      <td>...</td>\n",
       "      <td>1</td>\n",
       "      <td>0</td>\n",
       "      <td>0</td>\n",
       "      <td>0</td>\n",
       "      <td>5</td>\n",
       "      <td>1</td>\n",
       "      <td>0</td>\n",
       "      <td>0</td>\n",
       "      <td>0</td>\n",
       "      <td>1</td>\n",
       "    </tr>\n",
       "  </tbody>\n",
       "</table>\n",
       "<p>3 rows × 28 columns</p>\n",
       "</div>"
      ],
      "text/plain": [
       "             datetime  season  holiday  workingday  weather  temp   atemp  \\\n",
       "0 2011-01-01 00:00:00       1        0           0        1  9.84  14.395   \n",
       "1 2011-01-01 01:00:00       1        0           0        1  9.02  13.635   \n",
       "2 2011-01-01 02:00:00       1        0           0        1  9.02  13.635   \n",
       "\n",
       "   humidity  windspeed  casual  ...  winter  spring  summer  autumn  \\\n",
       "0        81        0.0       3  ...       1       0       0       0   \n",
       "1        80        0.0       8  ...       1       0       0       0   \n",
       "2        80        0.0       5  ...       1       0       0       0   \n",
       "\n",
       "   dayofweek  beau_temps  nuageux  pluie_neige  mauvais_temps  timediff  \n",
       "0          5           1        0            0              0         1  \n",
       "1          5           1        0            0              0         1  \n",
       "2          5           1        0            0              0         1  \n",
       "\n",
       "[3 rows x 28 columns]"
      ]
     },
     "execution_count": 90,
     "metadata": {},
     "output_type": "execute_result"
    }
   ],
   "source": [
    "data.head(3)"
   ]
  },
  {
   "cell_type": "code",
   "execution_count": 91,
   "metadata": {},
   "outputs": [
    {
     "data": {
      "text/plain": [
       "28"
      ]
     },
     "execution_count": 91,
     "metadata": {},
     "output_type": "execute_result"
    }
   ],
   "source": [
    "data.shape[1]"
   ]
  },
  {
   "cell_type": "code",
   "execution_count": 92,
   "metadata": {},
   "outputs": [
    {
     "data": {
      "text/html": [
       "<div>\n",
       "<style scoped>\n",
       "    .dataframe tbody tr th:only-of-type {\n",
       "        vertical-align: middle;\n",
       "    }\n",
       "\n",
       "    .dataframe tbody tr th {\n",
       "        vertical-align: top;\n",
       "    }\n",
       "\n",
       "    .dataframe thead th {\n",
       "        text-align: right;\n",
       "    }\n",
       "</style>\n",
       "<table border=\"1\" class=\"dataframe\">\n",
       "  <thead>\n",
       "    <tr style=\"text-align: right;\">\n",
       "      <th></th>\n",
       "      <th>datetime</th>\n",
       "      <th>season</th>\n",
       "      <th>holiday</th>\n",
       "      <th>workingday</th>\n",
       "      <th>weather</th>\n",
       "      <th>temp</th>\n",
       "      <th>atemp</th>\n",
       "      <th>humidity</th>\n",
       "      <th>windspeed</th>\n",
       "      <th>casual</th>\n",
       "      <th>...</th>\n",
       "      <th>winter</th>\n",
       "      <th>spring</th>\n",
       "      <th>summer</th>\n",
       "      <th>autumn</th>\n",
       "      <th>dayofweek</th>\n",
       "      <th>beau_temps</th>\n",
       "      <th>nuageux</th>\n",
       "      <th>pluie_neige</th>\n",
       "      <th>mauvais_temps</th>\n",
       "      <th>timediff</th>\n",
       "    </tr>\n",
       "  </thead>\n",
       "  <tbody>\n",
       "    <tr>\n",
       "      <th>0</th>\n",
       "      <td>2011-01-01 00:00:00</td>\n",
       "      <td>1</td>\n",
       "      <td>0</td>\n",
       "      <td>0</td>\n",
       "      <td>1</td>\n",
       "      <td>9.84</td>\n",
       "      <td>14.395</td>\n",
       "      <td>81</td>\n",
       "      <td>0.0</td>\n",
       "      <td>3</td>\n",
       "      <td>...</td>\n",
       "      <td>1</td>\n",
       "      <td>0</td>\n",
       "      <td>0</td>\n",
       "      <td>0</td>\n",
       "      <td>5</td>\n",
       "      <td>1</td>\n",
       "      <td>0</td>\n",
       "      <td>0</td>\n",
       "      <td>0</td>\n",
       "      <td>1</td>\n",
       "    </tr>\n",
       "    <tr>\n",
       "      <th>1</th>\n",
       "      <td>2011-01-01 01:00:00</td>\n",
       "      <td>1</td>\n",
       "      <td>0</td>\n",
       "      <td>0</td>\n",
       "      <td>1</td>\n",
       "      <td>9.02</td>\n",
       "      <td>13.635</td>\n",
       "      <td>80</td>\n",
       "      <td>0.0</td>\n",
       "      <td>8</td>\n",
       "      <td>...</td>\n",
       "      <td>1</td>\n",
       "      <td>0</td>\n",
       "      <td>0</td>\n",
       "      <td>0</td>\n",
       "      <td>5</td>\n",
       "      <td>1</td>\n",
       "      <td>0</td>\n",
       "      <td>0</td>\n",
       "      <td>0</td>\n",
       "      <td>1</td>\n",
       "    </tr>\n",
       "    <tr>\n",
       "      <th>2</th>\n",
       "      <td>2011-01-01 02:00:00</td>\n",
       "      <td>1</td>\n",
       "      <td>0</td>\n",
       "      <td>0</td>\n",
       "      <td>1</td>\n",
       "      <td>9.02</td>\n",
       "      <td>13.635</td>\n",
       "      <td>80</td>\n",
       "      <td>0.0</td>\n",
       "      <td>5</td>\n",
       "      <td>...</td>\n",
       "      <td>1</td>\n",
       "      <td>0</td>\n",
       "      <td>0</td>\n",
       "      <td>0</td>\n",
       "      <td>5</td>\n",
       "      <td>1</td>\n",
       "      <td>0</td>\n",
       "      <td>0</td>\n",
       "      <td>0</td>\n",
       "      <td>1</td>\n",
       "    </tr>\n",
       "  </tbody>\n",
       "</table>\n",
       "<p>3 rows × 28 columns</p>\n",
       "</div>"
      ],
      "text/plain": [
       "             datetime  season  holiday  workingday  weather  temp   atemp  \\\n",
       "0 2011-01-01 00:00:00       1        0           0        1  9.84  14.395   \n",
       "1 2011-01-01 01:00:00       1        0           0        1  9.02  13.635   \n",
       "2 2011-01-01 02:00:00       1        0           0        1  9.02  13.635   \n",
       "\n",
       "   humidity  windspeed  casual  ...  winter  spring  summer  autumn  \\\n",
       "0        81        0.0       3  ...       1       0       0       0   \n",
       "1        80        0.0       8  ...       1       0       0       0   \n",
       "2        80        0.0       5  ...       1       0       0       0   \n",
       "\n",
       "   dayofweek  beau_temps  nuageux  pluie_neige  mauvais_temps  timediff  \n",
       "0          5           1        0            0              0         1  \n",
       "1          5           1        0            0              0         1  \n",
       "2          5           1        0            0              0         1  \n",
       "\n",
       "[3 rows x 28 columns]"
      ]
     },
     "execution_count": 92,
     "metadata": {},
     "output_type": "execute_result"
    }
   ],
   "source": [
    "data.head(3)"
   ]
  },
  {
   "cell_type": "markdown",
   "metadata": {},
   "source": [
    "#### en regardant le dataset, on se rend compte que la colonne holiday présente des erreurs (des jours qui sont des vacances ne sont pas indiqués).\n",
    "#### On remarque également que des dates sont manquantes et que des horaires sont manquantes, on quantifierai ces valeurs plus loin dans l'exposé"
   ]
  },
  {
   "cell_type": "code",
   "execution_count": 93,
   "metadata": {},
   "outputs": [
    {
     "data": {
      "image/png": "[encoded data removed]",
      "text/plain": [
       "<Figure size 432x288 with 1 Axes>"
      ]
     },
     "metadata": {
      "needs_background": "light"
     },
     "output_type": "display_data"
    }
   ],
   "source": [
    "# voici un exemple de scatter plot qui permet de voir comment evolue le nombre de vélos loués en fonction d'un feature\n",
    "# ici, en fonction du temps passé\n",
    "\n",
    "# On crée un nouveau dataframe avec pour chaque jour la moyenne des vélos loués\n",
    "groups=data.groupby([\"timediff\"])\n",
    "timediff_count=pd.DataFrame(columns=['timediff','count'])\n",
    "i=0\n",
    "for key,df in groups:\n",
    "    timediff_count.loc[i]=[key,df[\"count\"].mean()]\n",
    "    i=i+1\n",
    "\n",
    "#affichage du graphe\n",
    "plt.title(\"évolution de la moyenne des vélos loués \\n par jour en fonction du temps passé\")\n",
    "plt.scatter(timediff_count[\"timediff\"],timediff_count[\"count\"])\n",
    "plt.show()"
   ]
  },
  {
   "cell_type": "markdown",
   "metadata": {},
   "source": [
    "#### on constate une évolution du nombre moyen de vélos loués : il y a une popularité croissante de la location de vélos "
   ]
  },
  {
   "cell_type": "markdown",
   "metadata": {},
   "source": [
    "# remarques sur le jeu de données"
   ]
  },
  {
   "cell_type": "code",
   "execution_count": 94,
   "metadata": {},
   "outputs": [],
   "source": [
    "data.columns.values.tolist();"
   ]
  },
  {
   "cell_type": "code",
   "execution_count": 95,
   "metadata": {},
   "outputs": [
    {
     "name": "stdout",
     "output_type": "stream",
     "text": [
      "cases vides:  datetime         0\n",
      "season           0\n",
      "holiday          0\n",
      "workingday       0\n",
      "weather          0\n",
      "temp             0\n",
      "atemp            0\n",
      "humidity         0\n",
      "windspeed        0\n",
      "casual           0\n",
      "registered       0\n",
      "count            0\n",
      "hour             0\n",
      "night            0\n",
      "morning          0\n",
      "afternoon        0\n",
      "afterwork        0\n",
      "evening          0\n",
      "winter           0\n",
      "spring           0\n",
      "summer           0\n",
      "autumn           0\n",
      "dayofweek        0\n",
      "beau_temps       0\n",
      "nuageux          0\n",
      "pluie_neige      0\n",
      "mauvais_temps    0\n",
      "timediff         0\n",
      "dtype: int64\n"
     ]
    },
    {
     "data": {
      "text/html": [
       "<div>\n",
       "<style scoped>\n",
       "    .dataframe tbody tr th:only-of-type {\n",
       "        vertical-align: middle;\n",
       "    }\n",
       "\n",
       "    .dataframe tbody tr th {\n",
       "        vertical-align: top;\n",
       "    }\n",
       "\n",
       "    .dataframe thead th {\n",
       "        text-align: right;\n",
       "    }\n",
       "</style>\n",
       "<table border=\"1\" class=\"dataframe\">\n",
       "  <thead>\n",
       "    <tr style=\"text-align: right;\">\n",
       "      <th></th>\n",
       "      <th>holiday</th>\n",
       "      <th>workingday</th>\n",
       "      <th>temp</th>\n",
       "      <th>atemp</th>\n",
       "      <th>humidity</th>\n",
       "      <th>windspeed</th>\n",
       "      <th>casual</th>\n",
       "      <th>registered</th>\n",
       "      <th>beau_temps</th>\n",
       "      <th>nuageux</th>\n",
       "      <th>pluie_neige</th>\n",
       "      <th>mauvais_temps</th>\n",
       "      <th>count</th>\n",
       "    </tr>\n",
       "  </thead>\n",
       "  <tbody>\n",
       "    <tr>\n",
       "      <th>count</th>\n",
       "      <td>10886.000000</td>\n",
       "      <td>10886.000000</td>\n",
       "      <td>10886.00000</td>\n",
       "      <td>10886.000000</td>\n",
       "      <td>10886.000000</td>\n",
       "      <td>10886.000000</td>\n",
       "      <td>10886.000000</td>\n",
       "      <td>10886.000000</td>\n",
       "      <td>10886.000000</td>\n",
       "      <td>10886.000000</td>\n",
       "      <td>10886.000000</td>\n",
       "      <td>10886.000000</td>\n",
       "      <td>10886.000000</td>\n",
       "    </tr>\n",
       "    <tr>\n",
       "      <th>mean</th>\n",
       "      <td>0.028569</td>\n",
       "      <td>0.680875</td>\n",
       "      <td>20.23086</td>\n",
       "      <td>23.655084</td>\n",
       "      <td>61.886460</td>\n",
       "      <td>12.799395</td>\n",
       "      <td>36.021955</td>\n",
       "      <td>155.552177</td>\n",
       "      <td>0.660665</td>\n",
       "      <td>0.260334</td>\n",
       "      <td>0.078909</td>\n",
       "      <td>0.000092</td>\n",
       "      <td>191.574132</td>\n",
       "    </tr>\n",
       "    <tr>\n",
       "      <th>std</th>\n",
       "      <td>0.166599</td>\n",
       "      <td>0.466159</td>\n",
       "      <td>7.79159</td>\n",
       "      <td>8.474601</td>\n",
       "      <td>19.245033</td>\n",
       "      <td>8.164537</td>\n",
       "      <td>49.960477</td>\n",
       "      <td>151.039033</td>\n",
       "      <td>0.473505</td>\n",
       "      <td>0.438837</td>\n",
       "      <td>0.269609</td>\n",
       "      <td>0.009584</td>\n",
       "      <td>181.144454</td>\n",
       "    </tr>\n",
       "    <tr>\n",
       "      <th>min</th>\n",
       "      <td>0.000000</td>\n",
       "      <td>0.000000</td>\n",
       "      <td>0.82000</td>\n",
       "      <td>0.760000</td>\n",
       "      <td>0.000000</td>\n",
       "      <td>0.000000</td>\n",
       "      <td>0.000000</td>\n",
       "      <td>0.000000</td>\n",
       "      <td>0.000000</td>\n",
       "      <td>0.000000</td>\n",
       "      <td>0.000000</td>\n",
       "      <td>0.000000</td>\n",
       "      <td>1.000000</td>\n",
       "    </tr>\n",
       "    <tr>\n",
       "      <th>25%</th>\n",
       "      <td>0.000000</td>\n",
       "      <td>0.000000</td>\n",
       "      <td>13.94000</td>\n",
       "      <td>16.665000</td>\n",
       "      <td>47.000000</td>\n",
       "      <td>7.001500</td>\n",
       "      <td>4.000000</td>\n",
       "      <td>36.000000</td>\n",
       "      <td>0.000000</td>\n",
       "      <td>0.000000</td>\n",
       "      <td>0.000000</td>\n",
       "      <td>0.000000</td>\n",
       "      <td>42.000000</td>\n",
       "    </tr>\n",
       "    <tr>\n",
       "      <th>50%</th>\n",
       "      <td>0.000000</td>\n",
       "      <td>1.000000</td>\n",
       "      <td>20.50000</td>\n",
       "      <td>24.240000</td>\n",
       "      <td>62.000000</td>\n",
       "      <td>12.998000</td>\n",
       "      <td>17.000000</td>\n",
       "      <td>118.000000</td>\n",
       "      <td>1.000000</td>\n",
       "      <td>0.000000</td>\n",
       "      <td>0.000000</td>\n",
       "      <td>0.000000</td>\n",
       "      <td>145.000000</td>\n",
       "    </tr>\n",
       "    <tr>\n",
       "      <th>75%</th>\n",
       "      <td>0.000000</td>\n",
       "      <td>1.000000</td>\n",
       "      <td>26.24000</td>\n",
       "      <td>31.060000</td>\n",
       "      <td>77.000000</td>\n",
       "      <td>16.997900</td>\n",
       "      <td>49.000000</td>\n",
       "      <td>222.000000</td>\n",
       "      <td>1.000000</td>\n",
       "      <td>1.000000</td>\n",
       "      <td>0.000000</td>\n",
       "      <td>0.000000</td>\n",
       "      <td>284.000000</td>\n",
       "    </tr>\n",
       "    <tr>\n",
       "      <th>max</th>\n",
       "      <td>1.000000</td>\n",
       "      <td>1.000000</td>\n",
       "      <td>41.00000</td>\n",
       "      <td>45.455000</td>\n",
       "      <td>100.000000</td>\n",
       "      <td>56.996900</td>\n",
       "      <td>367.000000</td>\n",
       "      <td>886.000000</td>\n",
       "      <td>1.000000</td>\n",
       "      <td>1.000000</td>\n",
       "      <td>1.000000</td>\n",
       "      <td>1.000000</td>\n",
       "      <td>977.000000</td>\n",
       "    </tr>\n",
       "  </tbody>\n",
       "</table>\n",
       "</div>"
      ],
      "text/plain": [
       "            holiday    workingday         temp         atemp      humidity  \\\n",
       "count  10886.000000  10886.000000  10886.00000  10886.000000  10886.000000   \n",
       "mean       0.028569      0.680875     20.23086     23.655084     61.886460   \n",
       "std        0.166599      0.466159      7.79159      8.474601     19.245033   \n",
       "min        0.000000      0.000000      0.82000      0.760000      0.000000   \n",
       "25%        0.000000      0.000000     13.94000     16.665000     47.000000   \n",
       "50%        0.000000      1.000000     20.50000     24.240000     62.000000   \n",
       "75%        0.000000      1.000000     26.24000     31.060000     77.000000   \n",
       "max        1.000000      1.000000     41.00000     45.455000    100.000000   \n",
       "\n",
       "          windspeed        casual    registered    beau_temps       nuageux  \\\n",
       "count  10886.000000  10886.000000  10886.000000  10886.000000  10886.000000   \n",
       "mean      12.799395     36.021955    155.552177      0.660665      0.260334   \n",
       "std        8.164537     49.960477    151.039033      0.473505      0.438837   \n",
       "min        0.000000      0.000000      0.000000      0.000000      0.000000   \n",
       "25%        7.001500      4.000000     36.000000      0.000000      0.000000   \n",
       "50%       12.998000     17.000000    118.000000      1.000000      0.000000   \n",
       "75%       16.997900     49.000000    222.000000      1.000000      1.000000   \n",
       "max       56.996900    367.000000    886.000000      1.000000      1.000000   \n",
       "\n",
       "        pluie_neige  mauvais_temps         count  \n",
       "count  10886.000000   10886.000000  10886.000000  \n",
       "mean       0.078909       0.000092    191.574132  \n",
       "std        0.269609       0.009584    181.144454  \n",
       "min        0.000000       0.000000      1.000000  \n",
       "25%        0.000000       0.000000     42.000000  \n",
       "50%        0.000000       0.000000    145.000000  \n",
       "75%        0.000000       0.000000    284.000000  \n",
       "max        1.000000       1.000000    977.000000  "
      ]
     },
     "execution_count": 95,
     "metadata": {},
     "output_type": "execute_result"
    }
   ],
   "source": [
    "# pour accéder aux statistiques descriptives des colonnes, j'utilise la fonction describe() pour les features continus\n",
    "feature_continu=['holiday','workingday','temp','atemp','humidity','windspeed','casual','registered','beau_temps','nuageux','pluie_neige','mauvais_temps','count']\n",
    "print(\"cases vides: \", data.isnull().sum())\n",
    "data[feature_continu].describe()"
   ]
  },
  {
   "cell_type": "markdown",
   "metadata": {},
   "source": [
    "### la première remarque qui peut être faite au vu de ces données et qu'il y a beaucoup de vacances scolaires qui n'ont pas été comptabilisées (2,8% des jours sont des vacances dans le dataset). La colonne mauvais temps est binaire et ne prend la valeur 1 qu'une seule fois dans le dataset.  Il n'y a pas de données manquantes. J'étais surpris de voir qu'il y avait des heures pour lesquelles 0 vélo était loué par des registered, mais ces lignes du jeu de données correspondent à des heures tardives de la nuit avec une forte humidité. \n"
   ]
  },
  {
   "cell_type": "markdown",
   "metadata": {},
   "source": [
    "# remarques sur certains features et leurs liens avec la variable \"count\""
   ]
  },
  {
   "cell_type": "markdown",
   "metadata": {},
   "source": [
    "### weather"
   ]
  },
  {
   "cell_type": "code",
   "execution_count": 96,
   "metadata": {},
   "outputs": [],
   "source": [
    "# statistiques en fonction du temps météorologique\n",
    "groups=data.groupby([\"weather\"])\n",
    "avg_count=pd.DataFrame(columns=['weather','occurrence','moy_count','median_count','standard déviation'])\n",
    "i=0\n",
    "for key,df in groups:\n",
    "    avg_count.loc[i]=[key,df[\"weather\"].count(),df[\"count\"].mean(),df[\"count\"].median(),df[\"count\"].std()]\n",
    "    i=i+1"
   ]
  },
  {
   "cell_type": "code",
   "execution_count": 97,
   "metadata": {},
   "outputs": [
    {
     "data": {
      "text/html": [
       "<div>\n",
       "<style scoped>\n",
       "    .dataframe tbody tr th:only-of-type {\n",
       "        vertical-align: middle;\n",
       "    }\n",
       "\n",
       "    .dataframe tbody tr th {\n",
       "        vertical-align: top;\n",
       "    }\n",
       "\n",
       "    .dataframe thead th {\n",
       "        text-align: right;\n",
       "    }\n",
       "</style>\n",
       "<table border=\"1\" class=\"dataframe\">\n",
       "  <thead>\n",
       "    <tr style=\"text-align: right;\">\n",
       "      <th></th>\n",
       "      <th>weather</th>\n",
       "      <th>occurrence</th>\n",
       "      <th>moy_count</th>\n",
       "      <th>median_count</th>\n",
       "      <th>standard déviation</th>\n",
       "    </tr>\n",
       "  </thead>\n",
       "  <tbody>\n",
       "    <tr>\n",
       "      <th>0</th>\n",
       "      <td>1.0</td>\n",
       "      <td>7192.0</td>\n",
       "      <td>205.236791</td>\n",
       "      <td>161.0</td>\n",
       "      <td>187.959566</td>\n",
       "    </tr>\n",
       "    <tr>\n",
       "      <th>1</th>\n",
       "      <td>2.0</td>\n",
       "      <td>2834.0</td>\n",
       "      <td>178.955540</td>\n",
       "      <td>134.0</td>\n",
       "      <td>168.366413</td>\n",
       "    </tr>\n",
       "    <tr>\n",
       "      <th>2</th>\n",
       "      <td>3.0</td>\n",
       "      <td>859.0</td>\n",
       "      <td>118.846333</td>\n",
       "      <td>71.0</td>\n",
       "      <td>138.581297</td>\n",
       "    </tr>\n",
       "    <tr>\n",
       "      <th>3</th>\n",
       "      <td>4.0</td>\n",
       "      <td>1.0</td>\n",
       "      <td>164.000000</td>\n",
       "      <td>164.0</td>\n",
       "      <td>NaN</td>\n",
       "    </tr>\n",
       "  </tbody>\n",
       "</table>\n",
       "</div>"
      ],
      "text/plain": [
       "   weather  occurrence   moy_count  median_count  standard déviation\n",
       "0      1.0      7192.0  205.236791         161.0          187.959566\n",
       "1      2.0      2834.0  178.955540         134.0          168.366413\n",
       "2      3.0       859.0  118.846333          71.0          138.581297\n",
       "3      4.0         1.0  164.000000         164.0                 NaN"
      ]
     },
     "execution_count": 97,
     "metadata": {},
     "output_type": "execute_result"
    }
   ],
   "source": [
    "avg_count"
   ]
  },
  {
   "cell_type": "code",
   "execution_count": 98,
   "metadata": {},
   "outputs": [
    {
     "data": {
      "image/png": "[encoded data removed]",
      "text/plain": [
       "<Figure size 432x288 with 1 Axes>"
      ]
     },
     "metadata": {
      "needs_background": "light"
     },
     "output_type": "display_data"
    }
   ],
   "source": [
    "data.boxplot(column='count', by='weather')\n",
    "plt.axis([0, 5, 0, 750])\n",
    "plt.show()"
   ]
  },
  {
   "cell_type": "markdown",
   "metadata": {},
   "source": [
    "### on remarque que le temps \"4\" n'apparaît qu'une seule fois dans tout le dataset le nombre de vélos loués pour ce temps est cependant plus élevé que la moyenne des vélos loués pour le temps 3. Etant donné qu'il n'apparaît qu'une seule fois, On va considérer uniquement les temps 1,2 et 3 dans la suite. Sans surprise, quand il fait beau la variable count a la moyenne la plus élevée."
   ]
  },
  {
   "cell_type": "markdown",
   "metadata": {},
   "source": [
    "### season"
   ]
  },
  {
   "cell_type": "code",
   "execution_count": 99,
   "metadata": {},
   "outputs": [],
   "source": [
    "# nouveau dataframe avec une ligne par saison et le nombre moyen de vélos loués pour chaque saison\n",
    "groups=data.groupby([\"season\"])\n",
    "avg_count=pd.DataFrame(columns=['season','occurence','moy_count','median_count'])\n",
    "i=0\n",
    "for key,df in groups:\n",
    "    avg_count.loc[i]=[key,df[\"weather\"].count(),df[\"count\"].mean(),df[\"count\"].median()]\n",
    "    i=i+1"
   ]
  },
  {
   "cell_type": "markdown",
   "metadata": {},
   "source": [
    "#### NB : dans le reste du code on n'utilisera plus cette colonne qui ne représente pas les vraies saisons de l'année, j'utiliserai les 4 nouvelles colonnes créées pour chaque saison\n"
   ]
  },
  {
   "cell_type": "code",
   "execution_count": 100,
   "metadata": {},
   "outputs": [
    {
     "data": {
      "text/html": [
       "<div>\n",
       "<style scoped>\n",
       "    .dataframe tbody tr th:only-of-type {\n",
       "        vertical-align: middle;\n",
       "    }\n",
       "\n",
       "    .dataframe tbody tr th {\n",
       "        vertical-align: top;\n",
       "    }\n",
       "\n",
       "    .dataframe thead th {\n",
       "        text-align: right;\n",
       "    }\n",
       "</style>\n",
       "<table border=\"1\" class=\"dataframe\">\n",
       "  <thead>\n",
       "    <tr style=\"text-align: right;\">\n",
       "      <th></th>\n",
       "      <th>season</th>\n",
       "      <th>occurence</th>\n",
       "      <th>moy_count</th>\n",
       "      <th>median_count</th>\n",
       "    </tr>\n",
       "  </thead>\n",
       "  <tbody>\n",
       "    <tr>\n",
       "      <th>0</th>\n",
       "      <td>1.0</td>\n",
       "      <td>2686.0</td>\n",
       "      <td>116.343261</td>\n",
       "      <td>78.0</td>\n",
       "    </tr>\n",
       "    <tr>\n",
       "      <th>1</th>\n",
       "      <td>2.0</td>\n",
       "      <td>2733.0</td>\n",
       "      <td>215.251372</td>\n",
       "      <td>172.0</td>\n",
       "    </tr>\n",
       "    <tr>\n",
       "      <th>2</th>\n",
       "      <td>3.0</td>\n",
       "      <td>2733.0</td>\n",
       "      <td>234.417124</td>\n",
       "      <td>195.0</td>\n",
       "    </tr>\n",
       "    <tr>\n",
       "      <th>3</th>\n",
       "      <td>4.0</td>\n",
       "      <td>2734.0</td>\n",
       "      <td>198.988296</td>\n",
       "      <td>161.0</td>\n",
       "    </tr>\n",
       "  </tbody>\n",
       "</table>\n",
       "</div>"
      ],
      "text/plain": [
       "   season  occurence   moy_count  median_count\n",
       "0     1.0     2686.0  116.343261          78.0\n",
       "1     2.0     2733.0  215.251372         172.0\n",
       "2     3.0     2733.0  234.417124         195.0\n",
       "3     4.0     2734.0  198.988296         161.0"
      ]
     },
     "execution_count": 100,
     "metadata": {},
     "output_type": "execute_result"
    }
   ],
   "source": [
    "avg_count"
   ]
  },
  {
   "cell_type": "markdown",
   "metadata": {},
   "source": [
    "### variable count : la variable à expliquer"
   ]
  },
  {
   "cell_type": "code",
   "execution_count": 101,
   "metadata": {},
   "outputs": [
    {
     "data": {
      "image/png": "[encoded data removed]",
      "text/plain": [
       "<Figure size 432x288 with 1 Axes>"
      ]
     },
     "metadata": {
      "needs_background": "light"
     },
     "output_type": "display_data"
    }
   ],
   "source": [
    "from matplotlib import pyplot as plt\n",
    "\n",
    "plt.hist(data[\"count\"],color=\"red\",alpha=0.5)\n",
    "plt.title(\"histogramme de la variable count\")\n",
    "plt.xlabel(\"nombre de vélos loués\")\n",
    "plt.show()"
   ]
  },
  {
   "cell_type": "markdown",
   "metadata": {},
   "source": [
    "### comparer l'attitude des casuals et des registered"
   ]
  },
  {
   "cell_type": "code",
   "execution_count": 102,
   "metadata": {},
   "outputs": [
    {
     "data": {
      "image/png": "[encoded data removed]",
      "text/plain": [
       "<Figure size 432x288 with 1 Axes>"
      ]
     },
     "metadata": {
      "needs_background": "light"
     },
     "output_type": "display_data"
    }
   ],
   "source": [
    "# On distingue ici les \"casual\" et \"registered\" en ce qui concerne le nombre de vélos emprunter par heure\n",
    "plt.hist(data[\"casual\"],alpha=0.5, label='casual')\n",
    "plt.hist(data[\"registered\"],alpha=0.5, label='registered')\n",
    "plt.legend(loc='upper right')\n",
    "plt.xlabel(\"nombre de vélos empruntés\")\n",
    "plt.show()\n"
   ]
  },
  {
   "cell_type": "markdown",
   "metadata": {},
   "source": [
    "#### comportement des utilisateurs en fonction du temps qu'il fait"
   ]
  },
  {
   "cell_type": "code",
   "execution_count": 103,
   "metadata": {},
   "outputs": [
    {
     "name": "stdout",
     "output_type": "stream",
     "text": [
      "si le temps est 1 alors nous avons les statistiques suivantes :\n",
      "count    7192.000000\n",
      "mean      205.236791\n",
      "std       187.959566\n",
      "min         1.000000\n",
      "25%        48.000000\n",
      "50%       161.000000\n",
      "75%       305.000000\n",
      "max       977.000000\n",
      "Name: count, dtype: float64\n"
     ]
    },
    {
     "data": {
      "image/png": "[encoded data removed]",
      "text/plain": [
       "<Figure size 432x288 with 1 Axes>"
      ]
     },
     "metadata": {
      "needs_background": "light"
     },
     "output_type": "display_data"
    },
    {
     "name": "stdout",
     "output_type": "stream",
     "text": [
      "si le temps est 2 alors nous avons les statistiques suivantes :\n",
      "count    2834.000000\n",
      "mean      178.955540\n",
      "std       168.366413\n",
      "min         1.000000\n",
      "25%        41.000000\n",
      "50%       134.000000\n",
      "75%       264.000000\n",
      "max       890.000000\n",
      "Name: count, dtype: float64\n"
     ]
    },
    {
     "data": {
      "image/png": "[encoded data removed]",
      "text/plain": [
       "<Figure size 432x288 with 1 Axes>"
      ]
     },
     "metadata": {
      "needs_background": "light"
     },
     "output_type": "display_data"
    },
    {
     "name": "stdout",
     "output_type": "stream",
     "text": [
      "si le temps est 3 alors nous avons les statistiques suivantes :\n",
      "count    859.000000\n",
      "mean     118.846333\n",
      "std      138.581297\n",
      "min        1.000000\n",
      "25%       23.000000\n",
      "50%       71.000000\n",
      "75%      161.000000\n",
      "max      891.000000\n",
      "Name: count, dtype: float64\n"
     ]
    },
    {
     "data": {
      "image/png": "[encoded data removed]",
      "text/plain": [
       "<Figure size 432x288 with 1 Axes>"
      ]
     },
     "metadata": {
      "needs_background": "light"
     },
     "output_type": "display_data"
    }
   ],
   "source": [
    "# j'ai exclu le temps 4 car il n'y en a qu'une donnée\n",
    "for i in range(1,4): \n",
    "    print(\"si le temps est %s alors nous avons les statistiques suivantes :\"%i)\n",
    "    print(data[data[\"weather\"]==i][\"count\"].describe())\n",
    "    plt.hist(data[data[\"weather\"]==i][\"casual\"],alpha=0.5, label='casual pour le temps %s'%i)\n",
    "    plt.hist(data[data[\"weather\"]==i][\"registered\"],alpha=0.5, label='registered pour le temps %s'%i)\n",
    "    plt.legend(loc='upper right')\n",
    "    plt.xlabel(\"nombre de vélos loués\")\n",
    "    plt.show()\n",
    "    "
   ]
  },
  {
   "cell_type": "markdown",
   "metadata": {},
   "source": [
    "##### ces graphes permettent d'avoir un aperçu du comportement des utilisateurs : si l'utilisateur est \"casual\" il emprunte généralement un petit nombre de vélos. S'il est \"registered\" il emprunte généralement un plus grand nombre de vélos par heure. Les \"casual \"sont plus sensibles au temps qu'il fait, le nombre de vélos loués chute drastiquement si le temps est mauvais. On remarque une baisse également chez les registered, mais pas aussi drastique. Le graphe ci-dessous représent la variable count en fonction du temps qu'il fait."
   ]
  },
  {
   "cell_type": "code",
   "execution_count": 104,
   "metadata": {},
   "outputs": [
    {
     "data": {
      "image/png": "[encoded data removed]",
      "text/plain": [
       "<Figure size 432x288 with 1 Axes>"
      ]
     },
     "metadata": {
      "needs_background": "light"
     },
     "output_type": "display_data"
    }
   ],
   "source": [
    "plt.hist(data[data[\"weather\"]==1][\"count\"],alpha=0.5, label='temps 1')\n",
    "plt.hist(data[data[\"weather\"]==2][\"count\"],alpha=0.5, label='temps 2')\n",
    "plt.hist(data[data[\"weather\"]==3][\"count\"],alpha=0.5, label='temps 3')\n",
    "plt.legend(loc='upper right')\n",
    "plt.xlabel(\"nombre de vélos loués (variable count)\")\n",
    "plt.show()"
   ]
  },
  {
   "cell_type": "markdown",
   "metadata": {},
   "source": [
    "## comportement des utilisateurs en fonction de la saison"
   ]
  },
  {
   "cell_type": "code",
   "execution_count": 105,
   "metadata": {},
   "outputs": [
    {
     "data": {
      "image/png": "[encoded data removed]",
      "text/plain": [
       "<Figure size 432x288 with 1 Axes>"
      ]
     },
     "metadata": {
      "needs_background": "light"
     },
     "output_type": "display_data"
    }
   ],
   "source": [
    "cas_1=data[data[\"winter\"]==1][\"casual\"]\n",
    "cas_2=data[data[\"spring\"]==1][\"casual\"]\n",
    "cas_3=data[data[\"summer\"]==1][\"casual\"]\n",
    "cas_4=data[data[\"autumn\"]==1][\"casual\"]\n",
    "\n",
    "reg_1=data[data[\"winter\"]==1][\"registered\"]\n",
    "reg_2=data[data[\"spring\"]==1][\"registered\"]\n",
    "reg_3=data[data[\"summer\"]==1][\"registered\"]\n",
    "reg_4=data[data[\"autumn\"]==1][\"registered\"]\n",
    "\n",
    "fig = plt.figure()\n",
    "ax = fig.add_subplot(111)\n",
    "\n",
    "\n",
    "N = 4\n",
    "casual = [cas_1.mean(), cas_2.mean(),cas_3.mean(),cas_4.mean()]\n",
    "registered = [reg_1.mean(), reg_2.mean(),reg_3.mean(),reg_4.mean()]\n",
    "\n",
    "\n",
    "ind = np.arange(N)                \n",
    "width = 0.35                      \n",
    "\n",
    "\n",
    "rects1 = ax.bar(ind, casual, width,\n",
    "                color='blue',alpha=0.5,\n",
    "                error_kw=dict(elinewidth=2,ecolor='green'))\n",
    "\n",
    "rects2 = ax.bar(ind+width, registered, width,\n",
    "                    color='green',alpha=0.5,\n",
    "                    error_kw=dict(elinewidth=2,ecolor='blue'))\n",
    "\n",
    "\n",
    "ax.set_xlim(-width,len(ind)+width)\n",
    "ax.set_ylim(0,250)\n",
    "ax.set_ylabel('count')\n",
    "ax.set_title('moyenne de count en fonction de la saison')\n",
    "xTickMarks = [\"winter\",\"spring\",\"summer\",\"autumn\"]\n",
    "ax.set_xticks(ind+width)\n",
    "xtickNames = ax.set_xticklabels(xTickMarks)\n",
    "plt.setp(xtickNames, rotation=45, fontsize=10)\n",
    "\n",
    "## add a legend\n",
    "ax.legend( (rects1[0], rects2[0]), ('casual', 'registered') )\n",
    "\n",
    "plt.show()"
   ]
  },
  {
   "cell_type": "markdown",
   "metadata": {},
   "source": [
    "##### on voit que les casuals prennent très peu le vélo en hiver et beaucoup plus en été. l'évolution n'est pas drastique pour les registered mais notable. On peut quantifier cette évolution du nombre de vélos loués en fonction de la saison :\n"
   ]
  },
  {
   "cell_type": "code",
   "execution_count": 106,
   "metadata": {},
   "outputs": [
    {
     "name": "stdout",
     "output_type": "stream",
     "text": [
      " pour les casuals le nombre de vélos loués est multiplié par :\n",
      " entre printemps et hiver : 3.365836882386408 \n",
      " entre été et printemps : 1.3626150706019402 \n",
      " entre automne et été : 0.7534247987423632\n",
      "\n",
      "\n",
      " pour les registered le nombre de vélos loués est multiplié par :\n",
      " entre printemps et hiver : 1.2707338166232025 \n",
      " entre été et printemps : 1.2684320404235236 \n",
      " entre automne et été : 0.9691717132025429\n"
     ]
    }
   ],
   "source": [
    "print(\" pour les casuals le nombre de vélos loués est multiplié par :\\n\", \"entre printemps et hiver :\",data[data[\"spring\"]==1][\"casual\"].mean()/data[data[\"winter\"]==1][\"casual\"].mean(),\n",
    " \"\\n entre été et printemps :\",data[data[\"summer\"]==1][\"casual\"].mean()/data[data[\"spring\"]==1][\"casual\"].mean(),\n",
    "\"\\n entre automne et été :\",data[data[\"autumn\"]==1][\"casual\"].mean()/data[data[\"summer\"]==1][\"casual\"].mean())\n",
    "print(\"\\n\\n pour les registered le nombre de vélos loués est multiplié par :\\n\", \"entre printemps et hiver :\",data[data[\"spring\"]==1][\"registered\"].mean()/data[data[\"winter\"]==1][\"registered\"].mean(),\n",
    " \"\\n entre été et printemps :\",data[data[\"summer\"]==1][\"registered\"].mean()/data[data[\"spring\"]==1][\"registered\"].mean(),\n",
    "\"\\n entre automne et été :\",data[data[\"autumn\"]==1][\"registered\"].mean()/data[data[\"summer\"]==1][\"registered\"].mean())"
   ]
  },
  {
   "cell_type": "markdown",
   "metadata": {},
   "source": [
    "## comportement des utilisateurs au regard des workindday"
   ]
  },
  {
   "cell_type": "code",
   "execution_count": 107,
   "metadata": {},
   "outputs": [
    {
     "data": {
      "image/png": "[encoded data removed]",
      "text/plain": [
       "<Figure size 432x288 with 1 Axes>"
      ]
     },
     "metadata": {
      "needs_background": "light"
     },
     "output_type": "display_data"
    }
   ],
   "source": [
    "#workingday\n",
    "cas_0=data[data[\"workingday\"]==0][\"casual\"]\n",
    "cas_1=data[data[\"workingday\"]==1][\"casual\"]\n",
    "\n",
    "reg_0=data[data[\"workingday\"]==0][\"registered\"]\n",
    "reg_1=data[data[\"workingday\"]==1][\"registered\"]\n",
    "\n",
    "fig = plt.figure()\n",
    "ax = fig.add_subplot(111)\n",
    "\n",
    "## the data\n",
    "N = 2\n",
    "casual = [cas_0.mean(), cas_1.mean()]\n",
    "registered = [reg_0.mean(), reg_1.mean()]\n",
    "\n",
    "## necessary variables\n",
    "ind = np.arange(N)                # the x locations for the groups\n",
    "width = 0.35                      # the width of the bars\n",
    "\n",
    "## the bars\n",
    "rects1 = ax.bar(ind, casual, width,\n",
    "                color='blue',alpha=0.5,\n",
    "                error_kw=dict(elinewidth=2,ecolor='green'))\n",
    "\n",
    "rects2 = ax.bar(ind+width, registered, width,\n",
    "                    color='green',alpha=0.5,\n",
    "                    error_kw=dict(elinewidth=2,ecolor='blue'))\n",
    "\n",
    "# axes and labels\n",
    "ax.set_xlim(-width,len(ind)+width)\n",
    "ax.set_ylim(0,250)\n",
    "ax.set_ylabel('count')\n",
    "ax.set_title('moyenne de count en fonction du jour')\n",
    "xTickMarks = ['non-workingday','workingday']\n",
    "ax.set_xticks(ind+width)\n",
    "xtickNames = ax.set_xticklabels(xTickMarks)\n",
    "plt.setp(xtickNames, rotation=45, fontsize=10)\n",
    "\n",
    "## add a legend\n",
    "ax.legend( (rects1[0], rects2[0]), ('casual', 'registered') )\n",
    "\n",
    "plt.show()\n"
   ]
  },
  {
   "cell_type": "markdown",
   "metadata": {},
   "source": [
    "##### on voit que lorsque c'est un jour de travail, les registered prennent plus le vélo que lorsque c'est un jour de repos et que c'est l'inverse pour les casuals, ce qui semble cohérent vu que les gens qui vont au travail en vélo sont probablement des registered"
   ]
  },
  {
   "cell_type": "markdown",
   "metadata": {},
   "source": [
    "### la colonne timediff"
   ]
  },
  {
   "cell_type": "code",
   "execution_count": 108,
   "metadata": {},
   "outputs": [],
   "source": [
    "# des sauts dans les horaires\n",
    "# des sauts dans les dates\n",
    "\n",
    "groups=data.groupby([\"timediff\"])\n",
    "timediff_count=pd.DataFrame(columns=['timediff',\"nombre d'horaires dans la journée\"])\n",
    "i=0\n",
    "for key,df in groups:\n",
    "    timediff_count.loc[i]=[key,df[\"timediff\"].count()]\n",
    "    i=i+1\n"
   ]
  },
  {
   "cell_type": "code",
   "execution_count": 109,
   "metadata": {},
   "outputs": [
    {
     "data": {
      "text/html": [
       "<div>\n",
       "<style scoped>\n",
       "    .dataframe tbody tr th:only-of-type {\n",
       "        vertical-align: middle;\n",
       "    }\n",
       "\n",
       "    .dataframe tbody tr th {\n",
       "        vertical-align: top;\n",
       "    }\n",
       "\n",
       "    .dataframe thead th {\n",
       "        text-align: right;\n",
       "    }\n",
       "</style>\n",
       "<table border=\"1\" class=\"dataframe\">\n",
       "  <thead>\n",
       "    <tr style=\"text-align: right;\">\n",
       "      <th></th>\n",
       "      <th>timediff</th>\n",
       "      <th>nombre d'horaires dans la journée</th>\n",
       "    </tr>\n",
       "  </thead>\n",
       "  <tbody>\n",
       "    <tr>\n",
       "      <th>0</th>\n",
       "      <td>1</td>\n",
       "      <td>24</td>\n",
       "    </tr>\n",
       "    <tr>\n",
       "      <th>1</th>\n",
       "      <td>2</td>\n",
       "      <td>23</td>\n",
       "    </tr>\n",
       "    <tr>\n",
       "      <th>2</th>\n",
       "      <td>3</td>\n",
       "      <td>22</td>\n",
       "    </tr>\n",
       "    <tr>\n",
       "      <th>3</th>\n",
       "      <td>4</td>\n",
       "      <td>23</td>\n",
       "    </tr>\n",
       "    <tr>\n",
       "      <th>4</th>\n",
       "      <td>5</td>\n",
       "      <td>23</td>\n",
       "    </tr>\n",
       "    <tr>\n",
       "      <th>5</th>\n",
       "      <td>6</td>\n",
       "      <td>23</td>\n",
       "    </tr>\n",
       "  </tbody>\n",
       "</table>\n",
       "</div>"
      ],
      "text/plain": [
       "  timediff nombre d'horaires dans la journée\n",
       "0        1                                24\n",
       "1        2                                23\n",
       "2        3                                22\n",
       "3        4                                23\n",
       "4        5                                23\n",
       "5        6                                23"
      ]
     },
     "execution_count": 109,
     "metadata": {},
     "output_type": "execute_result"
    }
   ],
   "source": [
    "timediff_count.head(6)"
   ]
  },
  {
   "cell_type": "code",
   "execution_count": 110,
   "metadata": {},
   "outputs": [
    {
     "data": {
      "text/plain": [
       "12"
      ]
     },
     "execution_count": 110,
     "metadata": {},
     "output_type": "execute_result"
    }
   ],
   "source": [
    "# il y a des journées avec seulement 12 horaires répertoriées\n",
    "timediff_count[\"nombre d'horaires dans la journée\"].min()"
   ]
  },
  {
   "cell_type": "code",
   "execution_count": 111,
   "metadata": {},
   "outputs": [
    {
     "name": "stdout",
     "output_type": "stream",
     "text": [
      "count     456\n",
      "unique    456\n",
      "top       719\n",
      "freq        1\n",
      "Name: timediff, dtype: int64\n",
      " \n",
      "\n",
      " nombre de jours manquants dans le dataset : 286 jours\n"
     ]
    }
   ],
   "source": [
    "print(timediff_count['timediff'].describe())\n",
    "# des lignes sont manquantes (il y a des sauts dans les dates)\n",
    "n=0\n",
    "for i in range(0,455):\n",
    "    if timediff_count['timediff'][i+1]-timediff_count[\"timediff\"][i]>1:\n",
    "        n=n+timediff_count['timediff'][i+1]-timediff_count[\"timediff\"][i]\n",
    "\n",
    "print(\" \\n\\n nombre de jours manquants dans le dataset :\",n,\"jours\")\n",
    "## on peut aussi voir qu'il y a des sauts dans les horaires pour certaines dates (moins de 24 heures répertoriées dans la journée)"
   ]
  },
  {
   "cell_type": "markdown",
   "metadata": {},
   "source": [
    "# quelles colonnes semblent expliquer la variable \"count\" ?"
   ]
  },
  {
   "cell_type": "markdown",
   "metadata": {},
   "source": [
    "## quelques graphes"
   ]
  },
  {
   "cell_type": "code",
   "execution_count": 112,
   "metadata": {},
   "outputs": [
    {
     "data": {
      "image/png": "[encoded data removed]",
      "text/plain": [
       "<Figure size 432x288 with 1 Axes>"
      ]
     },
     "metadata": {
      "needs_background": "light"
     },
     "output_type": "display_data"
    }
   ],
   "source": [
    "#temperature à midi\n",
    "midi=data[data['hour']==12]\n",
    "\n",
    "X=np.array(midi['temp'])[:,np.newaxis]\n",
    "\n",
    "Y=np.array(midi['count'])[:,np.newaxis]\n",
    "from sklearn import linear_model\n",
    "model=linear_model.LinearRegression()\n",
    "model.fit(X,Y)\n",
    "mini=3\n",
    "maxi=40\n",
    "x_axis=np.linspace(mini,maxi,100)[:,np.newaxis]\n",
    "\n",
    "X=[midi['temp']]\n",
    "Y=[midi['count']]\n",
    "plt.plot(X,Y,'k.',color=\"Blue\")\n",
    "plt.ylabel('Count')\n",
    "plt.xlabel(\"température à midi\")\n",
    "\n",
    "plt.plot(x_axis,model.predict(x_axis),'-r')\n",
    "plt.title(\" évolution du nombre de vélos en fonction \\n de la température à midi \")\n",
    "\n",
    "plt.show()"
   ]
  },
  {
   "cell_type": "markdown",
   "metadata": {},
   "source": [
    "#### sans surprise, une augmentation de la température entraine une augmentation du nombre de vélos loués.  Dans la suite on va quantifier l'influence de chaque variable sur le nombre de vélos loués"
   ]
  },
  {
   "cell_type": "markdown",
   "metadata": {},
   "source": [
    "# regression linéaire multiple sur des features sélectionnés"
   ]
  },
  {
   "cell_type": "code",
   "execution_count": 113,
   "metadata": {},
   "outputs": [],
   "source": [
    "data.columns.values.tolist();"
   ]
  },
  {
   "cell_type": "code",
   "execution_count": 114,
   "metadata": {},
   "outputs": [
    {
     "data": {
      "text/plain": [
       "19"
      ]
     },
     "execution_count": 114,
     "metadata": {},
     "output_type": "execute_result"
    }
   ],
   "source": [
    "# drop colonne : \"temp\", le feature atemp semble plus pertinent pour la suite\n",
    "feature_list =['holiday','workingday','atemp','humidity','windspeed','night','morning',\n",
    " 'afternoon','afterwork','evening','winter',\n",
    " 'spring','summer','autumn','timediff', 'beau_temps','nuageux','pluie_neige','mauvais_temps']\n",
    "len(feature_list)"
   ]
  },
  {
   "cell_type": "code",
   "execution_count": 115,
   "metadata": {},
   "outputs": [],
   "source": [
    "# regression linéaire\n",
    "from sklearn import linear_model\n",
    "model=linear_model.LinearRegression()"
   ]
  },
  {
   "cell_type": "code",
   "execution_count": 116,
   "metadata": {},
   "outputs": [
    {
     "data": {
      "image/png": "[encoded data removed]",
      "text/plain": [
       "<Figure size 1008x576 with 19 Axes>"
      ]
     },
     "metadata": {},
     "output_type": "display_data"
    }
   ],
   "source": [
    "# pour les variables binaires, la droite est tracée entre les valeurs \"0\"\n",
    "# et les valeurs \"1\"\n",
    "\n",
    "plt.figure(figsize=(14, 8))\n",
    "y = np.array(data['count'])\n",
    "\n",
    "for i in range(0, len(feature_list)):\n",
    "    x = np.array(data[feature_list[i]])[:, np.newaxis]\n",
    "    mini = float(x.min())\n",
    "    maxi = float(x.max())\n",
    "    x_pred = np.linspace(mini-2, maxi+2, 100)[:, np.newaxis]\n",
    "\n",
    "    plt.subplot(4, 5, i + 1)\n",
    "    model.fit(x, y)\n",
    "\n",
    "    plt.plot(x, y, '.', alpha=0.3)\n",
    "    plt.plot(x_pred, model.predict(x_pred), '-r', linewidth=2)\n",
    "    plt.xlabel(feature_list[i])\n",
    "    plt.xlim(x.min()-0.1,x.max()+0.1)\n",
    "    plt.xticks([])\n",
    "    plt.yticks([])\n",
    "    plt.ylim(0, y.max() * 1.1)\n",
    "\n",
    "plt.tight_layout()\n",
    "plt.show()"
   ]
  },
  {
   "cell_type": "markdown",
   "metadata": {},
   "source": [
    "##### ces graphes permettent de se faire une idée de l'influence des différentes colonnes sur la variable count. On peut quantifier l'influence grâce au test de nullité sur les coefficients directeurs."
   ]
  },
  {
   "cell_type": "code",
   "execution_count": 117,
   "metadata": {},
   "outputs": [],
   "source": [
    "import statsmodels.api as sm\n",
    "\n",
    "y = np.array(data['count'])\n",
    "\n",
    "\n",
    "#x = np.array(dat[feature_list]) #crochets ?\n",
    "x = [data[feature_list]]\n",
    "def reg_m(y, x):\n",
    "    ones = np.ones(len(x[0]))\n",
    "    X = sm.add_constant(np.column_stack((x[0], ones)))\n",
    "    for i in x[1:]:\n",
    "        X = sm.add_constant(np.column_stack((i, X)))\n",
    "    results = sm.OLS(y, X).fit()\n",
    "    return results"
   ]
  },
  {
   "cell_type": "code",
   "execution_count": 118,
   "metadata": {},
   "outputs": [
    {
     "name": "stdout",
     "output_type": "stream",
     "text": [
      "                            OLS Regression Results                            \n",
      "==============================================================================\n",
      "Dep. Variable:                      y   R-squared:                       0.601\n",
      "Model:                            OLS   Adj. R-squared:                  0.601\n",
      "Method:                 Least Squares   F-statistic:                     1025.\n",
      "Date:                Sat, 12 Jun 2021   Prob (F-statistic):               0.00\n",
      "Time:                        17:41:36   Log-Likelihood:                -67038.\n",
      "No. Observations:               10886   AIC:                         1.341e+05\n",
      "Df Residuals:                   10869   BIC:                         1.342e+05\n",
      "Df Model:                          16                                         \n",
      "Covariance Type:            nonrobust                                         \n",
      "==============================================================================\n",
      "                 coef    std err          t      P>|t|      [0.025      0.975]\n",
      "------------------------------------------------------------------------------\n",
      "x1            -8.2009      6.827     -1.201      0.230     -21.584       5.182\n",
      "x2             1.9991      2.435      0.821      0.412      -2.773       6.771\n",
      "x3             5.1649      0.221     23.356      0.000       4.731       5.598\n",
      "x4            -0.9614      0.075    -12.803      0.000      -1.109      -0.814\n",
      "x5            -0.3593      0.146     -2.459      0.014      -0.646      -0.073\n",
      "x6          -154.6170      4.136    -37.386      0.000    -162.724    -146.510\n",
      "x7            19.9213      4.209      4.733      0.000      11.670      28.172\n",
      "x8            17.8445      4.196      4.253      0.000       9.620      26.069\n",
      "x9           159.0639      4.252     37.410      0.000     150.729     167.398\n",
      "x10          -27.1858      4.434     -6.131      0.000     -35.877     -18.495\n",
      "x11           -7.4390      4.856     -1.532      0.126     -16.957       2.079\n",
      "x12           18.8770      4.757      3.968      0.000       9.552      28.202\n",
      "x13           -5.6357      5.447     -1.035      0.301     -16.313       5.042\n",
      "x14            9.2246      4.926      1.873      0.061      -0.431      18.880\n",
      "x15            0.2338      0.006     41.693      0.000       0.223       0.245\n",
      "x16           49.6053     24.487      2.026      0.043       1.605      97.605\n",
      "x17           40.9663     24.521      1.671      0.095      -7.099      89.032\n",
      "x18           -9.5837     24.677     -0.388      0.698     -57.954      38.787\n",
      "x19          -65.9611     90.110     -0.732      0.464    -242.593     110.671\n",
      "const         15.0268     17.519      0.858      0.391     -19.314      49.367\n",
      "==============================================================================\n",
      "Omnibus:                     1896.141   Durbin-Watson:                   0.870\n",
      "Prob(Omnibus):                  0.000   Jarque-Bera (JB):             3801.067\n",
      "Skew:                           1.054   Prob(JB):                         0.00\n",
      "Kurtosis:                       4.985   Cond. No.                     4.53e+18\n",
      "==============================================================================\n",
      "\n",
      "Warnings:\n",
      "[1] Standard Errors assume that the covariance matrix of the errors is correctly specified.\n",
      "[2] The smallest eigenvalue is 9.43e-29. This might indicate that there are\n",
      "strong multicollinearity problems or that the design matrix is singular.\n"
     ]
    }
   ],
   "source": [
    "print(reg_m(y, x).summary()) #parler de la colinearité"
   ]
  },
  {
   "cell_type": "markdown",
   "metadata": {
    "collapsed": true
   },
   "source": [
    "#### si l'on regarde les p-value approximativement nulles, on peut rejeter l'hypothèse d'un coefficient directeur nul avec un risque extrêmement faible de se tromper pour les features 3,4,6,7,8,9,10,12,15 qui sont :\n"
   ]
  },
  {
   "cell_type": "code",
   "execution_count": 119,
   "metadata": {},
   "outputs": [
    {
     "name": "stdout",
     "output_type": "stream",
     "text": [
      "atemp\n",
      "humidity\n",
      "night\n",
      "morning\n",
      "afternoon\n",
      "afterwork\n",
      "evening\n",
      "spring\n",
      "timediff\n"
     ]
    }
   ],
   "source": [
    "for i in (2,3,5,6,7,8,9,11,14):\n",
    "    print(feature_list[i])"
   ]
  },
  {
   "cell_type": "code",
   "execution_count": 120,
   "metadata": {},
   "outputs": [],
   "source": [
    "# à noter que la vitesse du vent et la variable \"beau temps\" on des p-values \n",
    "# très faibles également ce qui laisse à penser qu'elles expliquent effectivement la variable count"
   ]
  },
  {
   "cell_type": "markdown",
   "metadata": {},
   "source": [
    "#### il s'agit ici de décrire rapidement les variables qui semblent influencer la variable \"count\". Une régression linéaire plus poussée mettrait en évidence des colinéarités entre les features (détectables grâce à l'étude des \"vifs\"-variance inflation factor- par exemple) et certaines variables devrait être sorties du modèle. \n",
    "\n",
    "#### Dans cette première partie nous avons étudié différentes colonnes et affiché différents graphiques permettant de mieux saisir comment la variable count varie en fonction de différents features. Nous avons aussi comparé l'attitude des utilisateurs selon qu'ils sont \"casual\" ou \"registered\". \n",
    "#### passons maintenant à la prédiction du nombre de vélos loués par heure"
   ]
  },
  {
   "cell_type": "markdown",
   "metadata": {},
   "source": [
    "# Partie II – MACHINE LEARNING "
   ]
  },
  {
   "cell_type": "markdown",
   "metadata": {},
   "source": [
    "## régression linéaire"
   ]
  },
  {
   "cell_type": "code",
   "execution_count": 121,
   "metadata": {},
   "outputs": [],
   "source": [
    "# création de 24 nouveaux features (\"dummy variable\") pour les différentes heures. Une colonne par heure.\n",
    "\n",
    "dummy = pd.get_dummies(data[\"hour\"], prefix=\"hour\", dummy_na=False)\n",
    "data = data.join(dummy.loc[:, :])\n"
   ]
  },
  {
   "cell_type": "code",
   "execution_count": 122,
   "metadata": {},
   "outputs": [],
   "source": [
    "# création de 12 nouveaux features (\"dummy variable\") pour les 12 mois de l'année\n",
    "\n",
    "data[\"mois\"]=data[\"datetime\"].apply(lambda x: x.month)\n",
    "dummy = pd.get_dummies(data[\"mois\"], prefix=\"mois\", dummy_na=False)\n",
    "data = data.join(dummy.loc[:, :])"
   ]
  },
  {
   "cell_type": "code",
   "execution_count": 123,
   "metadata": {},
   "outputs": [
    {
     "data": {
      "text/plain": [
       "(10886, 65)"
      ]
     },
     "execution_count": 123,
     "metadata": {},
     "output_type": "execute_result"
    }
   ],
   "source": [
    "data.shape "
   ]
  },
  {
   "cell_type": "code",
   "execution_count": 124,
   "metadata": {},
   "outputs": [],
   "source": [
    "#data.to_csv(\"dataquantmetry.csv\")"
   ]
  },
  {
   "cell_type": "markdown",
   "metadata": {},
   "source": [
    "#### 65 features au total mais forcément de fortes colinéarités car, par exemple, l'heure indique si on est la journée ou la nuit (qui sont des features présents dans le dataset) ; le mois indique la saison ; la saison explique en parti la température... On va travailler avec 2 différentes listes de features pour la suite et comparer les performances "
   ]
  },
  {
   "cell_type": "code",
   "execution_count": 125,
   "metadata": {},
   "outputs": [],
   "source": [
    "# le nom des 65 features\n",
    "import math as m\n",
    "data.columns.values.tolist();"
   ]
  },
  {
   "cell_type": "code",
   "execution_count": 126,
   "metadata": {},
   "outputs": [],
   "source": [
    "# les features que l'on va utiliser : soit columns1 soit columns2. \n",
    "# Mon objectif est de ne pas lancer des modèles de machine learning avec des features qui sont colinéaires.\n",
    "\n",
    "# column 1 possède les features de base du dataset \n",
    "# (inclus ceux que j'ai ajoutés au début) + les dummy variables pour les mois et les horaires\n",
    "columns1=['holiday','workingday','atemp','humidity','windspeed',\n",
    " 'beau_temps','nuageux','pluie_neige','timediff','hour_0','hour_1','hour_2','hour_3',\n",
    " 'hour_4','hour_5','hour_6','hour_7','hour_8','hour_9','hour_10','hour_11',\n",
    " 'hour_12','hour_13','hour_14','hour_15','hour_16','hour_17','hour_18','hour_19',\n",
    " 'hour_20','hour_21','hour_22','hour_23','mois_1',\n",
    " 'mois_2','mois_3','mois_4','mois_5','mois_6','mois_7','mois_8','mois_9',\n",
    " 'mois_10','mois_11','mois_12',\"count\"]\n",
    "\n",
    "# column 2 possède les features de base du dataset + les dummy variables pour la saison et le moment de la journée\n",
    "columns2=['holiday','workingday','atemp','humidity','windspeed',\n",
    " 'beau_temps','nuageux','pluie_neige','timediff','night','morning','afternoon','winter','spring',\n",
    "'summer','autumn',\"evening\", 'afterwork','temp',\"count\"]\n"
   ]
  },
  {
   "cell_type": "code",
   "execution_count": 127,
   "metadata": {},
   "outputs": [],
   "source": [
    "# les 2 datasets sur lesquels on va tester les algorithmes de machine learning sont donc :\n",
    "data_ml1=data[columns1] #modèle 1\n",
    "data_ml2=data[columns2] #modèle 2"
   ]
  },
  {
   "cell_type": "code",
   "execution_count": 128,
   "metadata": {},
   "outputs": [
    {
     "data": {
      "text/html": [
       "<div>\n",
       "<style scoped>\n",
       "    .dataframe tbody tr th:only-of-type {\n",
       "        vertical-align: middle;\n",
       "    }\n",
       "\n",
       "    .dataframe tbody tr th {\n",
       "        vertical-align: top;\n",
       "    }\n",
       "\n",
       "    .dataframe thead th {\n",
       "        text-align: right;\n",
       "    }\n",
       "</style>\n",
       "<table border=\"1\" class=\"dataframe\">\n",
       "  <thead>\n",
       "    <tr style=\"text-align: right;\">\n",
       "      <th></th>\n",
       "      <th>holiday</th>\n",
       "      <th>workingday</th>\n",
       "      <th>atemp</th>\n",
       "      <th>humidity</th>\n",
       "      <th>windspeed</th>\n",
       "      <th>beau_temps</th>\n",
       "      <th>nuageux</th>\n",
       "      <th>pluie_neige</th>\n",
       "      <th>timediff</th>\n",
       "      <th>hour_0</th>\n",
       "      <th>...</th>\n",
       "      <th>mois_4</th>\n",
       "      <th>mois_5</th>\n",
       "      <th>mois_6</th>\n",
       "      <th>mois_7</th>\n",
       "      <th>mois_8</th>\n",
       "      <th>mois_9</th>\n",
       "      <th>mois_10</th>\n",
       "      <th>mois_11</th>\n",
       "      <th>mois_12</th>\n",
       "      <th>count</th>\n",
       "    </tr>\n",
       "  </thead>\n",
       "  <tbody>\n",
       "    <tr>\n",
       "      <th>0</th>\n",
       "      <td>0</td>\n",
       "      <td>0</td>\n",
       "      <td>14.395</td>\n",
       "      <td>81</td>\n",
       "      <td>0.0</td>\n",
       "      <td>1</td>\n",
       "      <td>0</td>\n",
       "      <td>0</td>\n",
       "      <td>1</td>\n",
       "      <td>1</td>\n",
       "      <td>...</td>\n",
       "      <td>0</td>\n",
       "      <td>0</td>\n",
       "      <td>0</td>\n",
       "      <td>0</td>\n",
       "      <td>0</td>\n",
       "      <td>0</td>\n",
       "      <td>0</td>\n",
       "      <td>0</td>\n",
       "      <td>0</td>\n",
       "      <td>16</td>\n",
       "    </tr>\n",
       "    <tr>\n",
       "      <th>1</th>\n",
       "      <td>0</td>\n",
       "      <td>0</td>\n",
       "      <td>13.635</td>\n",
       "      <td>80</td>\n",
       "      <td>0.0</td>\n",
       "      <td>1</td>\n",
       "      <td>0</td>\n",
       "      <td>0</td>\n",
       "      <td>1</td>\n",
       "      <td>0</td>\n",
       "      <td>...</td>\n",
       "      <td>0</td>\n",
       "      <td>0</td>\n",
       "      <td>0</td>\n",
       "      <td>0</td>\n",
       "      <td>0</td>\n",
       "      <td>0</td>\n",
       "      <td>0</td>\n",
       "      <td>0</td>\n",
       "      <td>0</td>\n",
       "      <td>40</td>\n",
       "    </tr>\n",
       "  </tbody>\n",
       "</table>\n",
       "<p>2 rows × 46 columns</p>\n",
       "</div>"
      ],
      "text/plain": [
       "   holiday  workingday   atemp  humidity  windspeed  beau_temps  nuageux  \\\n",
       "0        0           0  14.395        81        0.0           1        0   \n",
       "1        0           0  13.635        80        0.0           1        0   \n",
       "\n",
       "   pluie_neige  timediff  hour_0  ...  mois_4  mois_5  mois_6  mois_7  mois_8  \\\n",
       "0            0         1       1  ...       0       0       0       0       0   \n",
       "1            0         1       0  ...       0       0       0       0       0   \n",
       "\n",
       "   mois_9  mois_10  mois_11  mois_12  count  \n",
       "0       0        0        0        0     16  \n",
       "1       0        0        0        0     40  \n",
       "\n",
       "[2 rows x 46 columns]"
      ]
     },
     "execution_count": 128,
     "metadata": {},
     "output_type": "execute_result"
    }
   ],
   "source": [
    "data_ml1.head(2)"
   ]
  },
  {
   "cell_type": "markdown",
   "metadata": {},
   "source": [
    "### split the data : training set et testing test (80/20)"
   ]
  },
  {
   "cell_type": "code",
   "execution_count": 129,
   "metadata": {},
   "outputs": [],
   "source": [
    "# dans la continuité de ce que l'on a fait précédemment on commence par tester les résultats des régressions linéaires\n",
    "\n",
    "from sklearn import linear_model\n",
    "from sklearn.linear_model import Lasso\n",
    "from sklearn.linear_model import Ridge\n",
    "from sklearn.model_selection import train_test_split"
   ]
  },
  {
   "cell_type": "code",
   "execution_count": 130,
   "metadata": {},
   "outputs": [],
   "source": [
    "train1, test1 = train_test_split(data_ml1, test_size=0.2) # train et test pour le dataset 1\n",
    "train2, test2 = train_test_split(data_ml2, test_size=0.2) # train et test pour le dataset 2"
   ]
  },
  {
   "cell_type": "code",
   "execution_count": 131,
   "metadata": {},
   "outputs": [],
   "source": [
    "# features de column 1\n",
    "y_train1 = train1['count']\n",
    "x_train1 = train1.drop(['count'], axis=1)\n",
    "y_test1 = test1['count']\n",
    "x_test1 = test1.drop(['count'], axis=1)\n",
    "# features de column 2\n",
    "y_train2 = train2['count']\n",
    "x_train2 = train2.drop(['count'], axis=1)\n",
    "y_test2 = test2['count']\n",
    "x_test2 = test2.drop(['count'], axis=1)"
   ]
  },
  {
   "cell_type": "markdown",
   "metadata": {},
   "source": [
    "### linear model"
   ]
  },
  {
   "cell_type": "code",
   "execution_count": 132,
   "metadata": {},
   "outputs": [],
   "source": [
    "model1=linear_model.LinearRegression()\n",
    "model2=linear_model.LinearRegression()"
   ]
  },
  {
   "cell_type": "code",
   "execution_count": 133,
   "metadata": {},
   "outputs": [
    {
     "name": "stdout",
     "output_type": "stream",
     "text": [
      "les coefficients :\n",
      " [-6.56292111e+00  1.77186269e+00  4.06189219e+00 -8.57302929e-01\n",
      " -4.42747995e-01  7.87225178e+11  7.87225178e+11  7.87225178e+11\n",
      "  2.44772735e-01 -7.60156834e+08 -7.60156853e+08 -7.60156863e+08\n",
      " -7.60156876e+08 -7.60156878e+08 -7.60156860e+08 -7.60156799e+08\n",
      " -7.60156660e+08 -7.60156525e+08 -7.60156670e+08 -7.60156724e+08\n",
      " -7.60156699e+08 -7.60156659e+08 -7.60156661e+08 -7.60156678e+08\n",
      " -7.60156672e+08 -7.60156605e+08 -7.60156444e+08 -7.60156487e+08\n",
      " -7.60156595e+08 -7.60156675e+08 -7.60156727e+08 -7.60156762e+08\n",
      " -7.60156799e+08  2.43834963e+10  2.43834963e+10  2.43834964e+10\n",
      "  2.43834964e+10  2.43834964e+10  2.43834964e+10  2.43834963e+10\n",
      "  2.43834964e+10  2.43834964e+10  2.43834964e+10  2.43834963e+10\n",
      "  2.43834963e+10] \n",
      " \n",
      "intersect : -810848517168.3103\n"
     ]
    }
   ],
   "source": [
    "# modèle de régression linéaire pour le modèle 1\n",
    "model1.fit(x_train1,y_train1)\n",
    "print(\"les coefficients :\\n\",model1.coef_,\"\\n \\nintersect :\",model1.intercept_)"
   ]
  },
  {
   "cell_type": "markdown",
   "metadata": {},
   "source": [
    "#### on remarque que les coefficients des variables binaires sont énormes et ce n'est donc pas satisfaisant.On garde cependant cette sortie pour montrer par la suite comment on peut éviter ce genre de problèmes en rajoutant un regularizer au modèle.\n",
    "#### ces valeurs  importantes sont dues aux colinéarités de certains features et aussi au fait que les régressions linéaires ne sont pas optimales pour les features qui sont des dummy variables. \n",
    "#### la valeur de l'intersect permet cependant d'avoir des résultats cohérents pour le nombre de vélos prédits (cela contrebalance les coefficients en quelque sorte)\n",
    "#### le problème que pose ces larges valeurs est le risque d'overfitting (et donc d'une mauvaise généralisation du modèle)."
   ]
  },
  {
   "cell_type": "code",
   "execution_count": 134,
   "metadata": {},
   "outputs": [
    {
     "name": "stdout",
     "output_type": "stream",
     "text": [
      "les coefficients :\n",
      " [  -7.06061177    1.68683033    2.79104968   -0.99141694   -0.46998657\n",
      "  109.17582038   99.47528761   52.78659558    0.23520633 -157.88421302\n",
      "   18.20136327   15.74280341   -9.18207427   16.31625619  -14.71800515\n",
      "    7.58382323  -29.45630145  153.39634779    2.92649288] \n",
      " \n",
      "intersect : -37.50251277087551\n"
     ]
    }
   ],
   "source": [
    "# le modèle 2 ne pose pas ce genre de problème\n",
    "# il y a moins de variables binaires dans le modèle et moins de colinéarité\n",
    "\n",
    "model2.fit(x_train2,y_train2)\n",
    "print(\"les coefficients :\\n\",model2.coef_,\"\\n \\nintersect :\",model2.intercept_)"
   ]
  },
  {
   "cell_type": "markdown",
   "metadata": {},
   "source": [
    "#### En regardant les prédictions, j'ai remarqué des valeurs négatives de prédiction, or le minimum de la variable count dans le dataset est 1. On remplace donc les prédictions négatives par 1 (1 vélo loué)"
   ]
  },
  {
   "cell_type": "code",
   "execution_count": 135,
   "metadata": {},
   "outputs": [],
   "source": [
    "predict1=model1.predict(x_test1)\n",
    "predict1[predict1<0]=1\n",
    "predict2=model2.predict(x_test2)\n",
    "predict2[predict2<0]=1"
   ]
  },
  {
   "cell_type": "code",
   "execution_count": 136,
   "metadata": {},
   "outputs": [
    {
     "name": "stdout",
     "output_type": "stream",
     "text": [
      "mean squarred error model 1 : 9739.84914336719\n",
      "mean squarred error model 2 : 12084.767896190335\n"
     ]
    }
   ],
   "source": [
    "print(\"mean squarred error model 1 :\",np.mean((predict1-y_test1)**2))\n",
    "print(\"mean squarred error model 2 :\",np.mean((predict2-y_test2)**2))"
   ]
  },
  {
   "cell_type": "code",
   "execution_count": 137,
   "metadata": {},
   "outputs": [
    {
     "name": "stdout",
     "output_type": "stream",
     "text": [
      "pour le modèle 1, valeurs des R² pour les training test et testing test: 0.6949681550450573 -8632499625449656.0\n",
      "pour le modèle 2, valeurs des R² pour les training test et testing test: 0.6013612089037432 0.6029029538629502\n"
     ]
    }
   ],
   "source": [
    "print(\"pour le modèle 1, valeurs des R² pour les training test et testing test:\",model1.score(x_train1,y_train1),model1.score(x_test1,y_test1))\n",
    "print(\"pour le modèle 2, valeurs des R² pour les training test et testing test:\",model2.score(x_train2,y_train2),model2.score(x_test2,y_test2))"
   ]
  },
  {
   "cell_type": "code",
   "execution_count": 138,
   "metadata": {},
   "outputs": [
    {
     "name": "stdout",
     "output_type": "stream",
     "text": [
      "pour le modèle 1: 70.48786958496542\n",
      "pour le modèle 2: 79.43699383719766\n"
     ]
    }
   ],
   "source": [
    "# erreurs moyennes du modèle en ce qui concerne le nombre de vélos loués \n",
    "\n",
    "from sklearn.metrics import mean_absolute_error\n",
    "print(\"pour le modèle 1:\",mean_absolute_error(predict1,y_test1))\n",
    "print(\"pour le modèle 2:\",mean_absolute_error(predict2,y_test2))"
   ]
  },
  {
   "cell_type": "markdown",
   "metadata": {},
   "source": [
    "### l'erreur (écart entre le vrai nombre de vélos et le nombre prédit) est très importante en moyenne et le modèle n'est donc pas satisfaisant du tout. On remarque que certaines prédictions avaient des valeurs négatives, fixons les à 1\n",
    "### le R² donné par la fonction \"score\" est cependant autour de 0.6 pour le modèle 2 et 0.69 pour le modèle 1, ce qui montre que la variance de la valeur \"count\" autour de sa moyenne est bien saisie par le modèle \n",
    "### Dans la suite de l'exposé, on va utiliser des regularizers pour empêcher les coefficients de prendre des valeurs trop importantes comme c'était le cas pour le modèle 1"
   ]
  },
  {
   "cell_type": "markdown",
   "metadata": {},
   "source": [
    "### lasso"
   ]
  },
  {
   "cell_type": "code",
   "execution_count": 139,
   "metadata": {
    "scrolled": true
   },
   "outputs": [
    {
     "name": "stdout",
     "output_type": "stream",
     "text": [
      "coefficients model 1 : [-0.00000000e+00  0.00000000e+00  5.94817958e+00 -1.51649733e+00\n",
      " -5.39948761e-02  1.00795803e+00 -0.00000000e+00 -3.17149728e+01\n",
      "  2.33295652e-01 -9.94800294e+01 -1.17315835e+02 -1.24907224e+02\n",
      " -1.34592532e+02 -1.37026026e+02 -1.20241409e+02 -5.55126382e+01\n",
      "  2.93642781e+01  1.62539531e+02  1.35333927e+01 -0.00000000e+00\n",
      " -0.00000000e+00  9.92222428e+00  5.78588023e+00  0.00000000e+00\n",
      "  0.00000000e+00  5.91347538e+01  2.22611096e+02  1.81124421e+02\n",
      "  7.78564456e+01  2.24945541e-01 -0.00000000e+00 -3.30645157e+01\n",
      " -6.67993113e+01 -0.00000000e+00 -0.00000000e+00  0.00000000e+00\n",
      "  0.00000000e+00  2.49861950e+01  0.00000000e+00 -2.05103367e+01\n",
      " -9.65060641e+00  0.00000000e+00  5.48452963e+00  0.00000000e+00\n",
      " -0.00000000e+00]\n",
      "valeur à l'origine model 1 : 67.5161975054907\n",
      " \n",
      "coefficients model 2: [-0.00000000e+00  0.00000000e+00  3.44942689e+00 -1.13042546e+00\n",
      " -4.14068154e-01  5.91102779e+00  0.00000000e+00 -3.14875099e+01\n",
      "  2.37138081e-01 -1.67355706e+02  1.39541848e-02 -0.00000000e+00\n",
      " -7.60273560e+00  9.82607366e+00 -1.17981535e+01  1.49459606e+00\n",
      " -3.54213330e+01  1.31686404e+02  2.19973883e+00]\n",
      "valeur à l'origine model 2: 86.77241867956135\n",
      " \n",
      "COMPARAISON DES DEUX MODELES \n",
      "\n",
      "model 1: 0.6716433045774215 0.6601795732505407\n",
      "model 2: 0.5994399536673579 0.6007918311873061\n",
      " \n",
      " moyenne des erreurs entre la prédiction et le résultat :\n",
      "pour le modèle 1: 75.22979515882628\n",
      "pour le modèle 2: 79.59789573445634\n"
     ]
    }
   ],
   "source": [
    "# lasso : mettre certains coefficients (ceux des features les moins importants) à 0 \n",
    "# et empêcher les coefficients de prendre des valeurs trop larges\n",
    "\n",
    "# model 1\n",
    "model1 = linear_model.Lasso(alpha=1)\n",
    "model1.fit(x_train1,y_train1)\n",
    "print(\"coefficients model 1 :\",model1.coef_)\n",
    "print(\"valeur à l'origine model 1 :\",model1.intercept_)\n",
    "print(\" \")\n",
    "#model 2\n",
    "model2 = linear_model.Lasso(alpha=1)\n",
    "model2.fit(x_train2,y_train2)\n",
    "print(\"coefficients model 2:\",model2.coef_)\n",
    "print(\"valeur à l'origine model 2:\",model2.intercept_)\n",
    "print(\" \")\n",
    "\n",
    "#On remplace les valeurs négatives des prédictions\n",
    "predict1=model1.predict(x_test1)\n",
    "predict1[predict1<0]=1\n",
    "predict2=model2.predict(x_test2)\n",
    "predict2[predict2<0]=1\n",
    "\n",
    "#comparaison des 2 modèles\n",
    "print(\"COMPARAISON DES DEUX MODELES \\n\")\n",
    "print(\"model 1:\",model1.score(x_train1,y_train1),model1.score(x_test1,y_test1))\n",
    "print(\"model 2:\",model2.score(x_train2,y_train2),model2.score(x_test2,y_test2))\n",
    "print(\" \")\n",
    "print(\" moyenne des erreurs entre la prédiction et le résultat :\")\n",
    "print(\"pour le modèle 1:\",mean_absolute_error(predict1,y_test1))\n",
    "print(\"pour le modèle 2:\",mean_absolute_error(predict2,y_test2))"
   ]
  },
  {
   "cell_type": "markdown",
   "metadata": {},
   "source": [
    "#### Comme prévu, de nombreux features ont des coefficients nuls avec une régression de type lasso"
   ]
  },
  {
   "cell_type": "code",
   "execution_count": 140,
   "metadata": {},
   "outputs": [
    {
     "name": "stdout",
     "output_type": "stream",
     "text": [
      "meilleur paramètre pour le lasso : 0.1\n",
      " \n",
      "[-3.00527980e+00  1.49219388e+00  4.41634475e+00 -9.26990912e-01\n",
      " -4.00474493e-01  1.01201876e+01 -0.00000000e+00 -5.21785337e+01\n",
      "  2.42794993e-01 -1.47968187e+02 -1.66324741e+02 -1.76048696e+02\n",
      " -1.88765714e+02 -1.90553328e+02 -1.73365983e+02 -1.11353419e+02\n",
      "  2.17683715e+01  1.56378242e+02  1.13729412e+01 -3.88600974e+01\n",
      " -1.48487329e+01  1.96725709e+01  1.78698313e+01  0.00000000e+00\n",
      "  6.51756830e+00  7.35955282e+01  2.34559764e+02  1.92030973e+02\n",
      "  8.47426743e+01  4.79488538e+00 -4.14795781e+01 -7.68530289e+01\n",
      " -1.13261474e+02 -1.29248147e+01 -1.12352535e+01  5.06022909e-04\n",
      "  1.39495427e+01  4.15322736e+01  1.74840113e+01 -1.10605279e+01\n",
      " -5.70740308e+00  1.08328393e+01  1.79236619e+01 -4.04138184e+00\n",
      " -1.86802784e+01] \n",
      " 0.6946337144956484 0.6855438800484475\n",
      " \n",
      " moyenne des erreurs entre la prédiction et le résultat :\n",
      "pour le modèle 1: 76.0835938297444\n"
     ]
    }
   ],
   "source": [
    "# On choisi arbitrairement une valeur de coefficient de 1 pour le regularizer dans la cellule précédente.\n",
    "# On vais essayer différents regularizers ici et garder celui qui produit le meilleur score\n",
    "alphas = np.logspace(-1,4,6)\n",
    "\n",
    "model1 = linear_model.Lasso()\n",
    "scores = [model1.set_params(alpha=alpha).fit(x_train1, y_train1).score(x_test1, y_test1) for alpha in alphas]\n",
    "best_alpha = alphas[scores.index(max(scores))]\n",
    "model1.alpha = best_alpha\n",
    "model1.fit(x_train1, y_train1)\n",
    "print(\"meilleur paramètre pour le lasso :\",best_alpha)\n",
    "print(\" \")\n",
    "print(model1.coef_,\"\\n\",model1.score(x_train1,y_train1),model1.score(x_test1,y_test1))\n",
    "print(' ')\n",
    "print(\" moyenne des erreurs entre la prédiction et le résultat :\")\n",
    "print(\"pour le modèle 1:\",mean_absolute_error(model1.predict(x_test1),y_test1))"
   ]
  },
  {
   "cell_type": "markdown",
   "metadata": {},
   "source": [
    "##### comme prévu certains features ont des coefficients nuls. Le premier coefficient de la liste (qui vaut 0) correspond à la colonne \"holiday\". Ce n'est pas étonnant que ce coefficient soit nul car l'information est redondante avec celle de la colonne \"workingday\" et nous avons aussi vu précédemment que ce feature possédait des anomalies (certains jours qui sont des vacances ne sont pas indiqués)\n"
   ]
  },
  {
   "cell_type": "markdown",
   "metadata": {},
   "source": [
    "### ridge"
   ]
  },
  {
   "cell_type": "code",
   "execution_count": 141,
   "metadata": {},
   "outputs": [
    {
     "name": "stdout",
     "output_type": "stream",
     "text": [
      "[-6.55102046e+00  1.80825225e+00  4.07964920e+00 -8.61540546e-01\n",
      " -4.43806931e-01  2.55771329e+01  1.45470643e+01 -4.01241972e+01\n",
      "  2.44674231e-01 -1.25457602e+02 -1.43944761e+02 -1.53895105e+02\n",
      " -1.66987067e+02 -1.68747815e+02 -1.51581737e+02 -8.99873468e+01\n",
      "  4.84192640e+01  1.83107392e+02  3.88552078e+01 -1.54413660e+01\n",
      "  9.18954843e+00  4.89643868e+01  4.75441795e+01  2.99628106e+01\n",
      "  3.67976585e+01  1.03544504e+02  2.63957220e+02  2.21225048e+02\n",
      "  1.13498049e+02  3.33756378e+01 -1.81749232e+01 -5.37727514e+01\n",
      " -9.04504324e+01 -2.04194401e+01 -1.80732136e+01 -2.99682881e+00\n",
      "  1.22089365e+01  4.02620163e+01  1.79803396e+01 -1.16145451e+01\n",
      " -7.34712805e+00  1.03276859e+01  1.59326963e+01 -1.02467719e+01\n",
      " -2.60137470e+01] \n",
      "\n",
      " \n",
      "modèle 1 score (R²) pour le training set : 0.6949671477072024\n",
      "modèle 1 score (R²) pour le testing set : 0.6861683768446316\n"
     ]
    }
   ],
   "source": [
    "# le modèle de regression ridge permet de contrôler la taille\n",
    "# des coefficients\n",
    "\n",
    "model1 = Ridge(alpha=0.5) #coefficient du regularizer : 0.5\n",
    "model1.fit(x_train1,y_train1) \n",
    "print(model1.coef_,\"\\n\")\n",
    "print(\" \")\n",
    "print(\"modèle 1 score (R²) pour le training set :\",model1.score(x_train1,y_train1))\n",
    "print(\"modèle 1 score (R²) pour le testing set :\",model1.score(x_test1,y_test1))"
   ]
  },
  {
   "cell_type": "code",
   "execution_count": 142,
   "metadata": {},
   "outputs": [
    {
     "name": "stdout",
     "output_type": "stream",
     "text": [
      "[  -7.04758281    1.67512399    2.79038546   -0.99299743   -0.46916192\n",
      "   56.79551666   47.1057617     0.45277922    0.23518418 -157.81685848\n",
      "   18.22640487   15.72381473   -9.16816329   16.31703317  -14.74538513\n",
      "    7.59651525  -29.42868159  153.29532047    2.93121153] \n",
      "\n",
      " \n",
      "modèle 2 score (R²) pour le training set : 0.6013516643397347\n",
      "modèle 2 score (R²) pour le testing set : 0.6028912500223413\n"
     ]
    }
   ],
   "source": [
    "model2 = Ridge(alpha=0.5)\n",
    "model2.fit(x_train2,y_train2) \n",
    "print(model2.coef_,\"\\n\")\n",
    "print(\" \")\n",
    "print(\"modèle 2 score (R²) pour le training set :\",model2.score(x_train2,y_train2))\n",
    "print(\"modèle 2 score (R²) pour le testing set :\",model2.score(x_test2,y_test2))"
   ]
  },
  {
   "cell_type": "code",
   "execution_count": 143,
   "metadata": {},
   "outputs": [
    {
     "name": "stdout",
     "output_type": "stream",
     "text": [
      " moyenne des erreurs entre la prédiction et le résultat :\n",
      "pour le modèle 1: 70.50291786282115\n",
      "pour le modèle 2: 79.43622431649788\n"
     ]
    }
   ],
   "source": [
    "predict1=model1.predict(x_test1)\n",
    "predict1[predict1<0]=1\n",
    "predict2=model2.predict(x_test2)\n",
    "predict2[predict2<0]=1\n",
    "print(\" moyenne des erreurs entre la prédiction et le résultat :\")\n",
    "print(\"pour le modèle 1:\",mean_absolute_error(predict1,y_test1))\n",
    "print(\"pour le modèle 2:\",mean_absolute_error(predict2,y_test2))"
   ]
  },
  {
   "cell_type": "markdown",
   "metadata": {},
   "source": [
    "### En utilisant des modèles de régression avec des regularizers (Lasso et Ridge), les valeurs des coefficients qui étaient très larges précédemment ont été diminuées, et certains coefficients ont pris des valeurs nulles grâce à la méthode Lasso. L'intérêt de ces regularizers est d'avoir un modèle robuste et peu sensible à d'éventuels outliers.\n",
    "### Cependant, la valeur des erreurs moyennes (moyenne des valeurs absolues des différences) est importante et ce quelque soit le modèle de régression utilisée (environ 67 vélos d'écart en utilisant le modèle 1).  \n",
    "#### On va utiliser un modèle polynomial avec un regularizer dans la suite pour essayer de réduire cette erreur."
   ]
  },
  {
   "cell_type": "markdown",
   "metadata": {},
   "source": [
    "### polynomial"
   ]
  },
  {
   "cell_type": "code",
   "execution_count": 144,
   "metadata": {},
   "outputs": [],
   "source": [
    "from sklearn.preprocessing import PolynomialFeatures\n",
    "from sklearn.pipeline import make_pipeline"
   ]
  },
  {
   "cell_type": "code",
   "execution_count": 145,
   "metadata": {},
   "outputs": [
    {
     "name": "stderr",
     "output_type": "stream",
     "text": [
      "C:\\Users\\X380\\Anaconda3\\lib\\site-packages\\sklearn\\linear_model\\ridge.py:125: LinAlgWarning: Ill-conditioned matrix (rcond=3.47014e-21): result may not be accurate.\n",
      "  overwrite_a=True).T\n"
     ]
    },
    {
     "name": "stdout",
     "output_type": "stream",
     "text": [
      "modèle 2 score (R²) pour le testing set : 0.7635527356896292\n",
      "modèle 2 score (R²) pour le training set : 0.8041135358154141\n"
     ]
    }
   ],
   "source": [
    "# j'utilise le modèle 2 pour tester le modèle polynomial\n",
    "model2 = make_pipeline(PolynomialFeatures(3), Ridge(alpha=2)) #ridge\n",
    "model2.fit(x_train2,y_train2)\n",
    "print(\"modèle 2 score (R²) pour le testing set :\",model2.score(x_test2,y_test2))\n",
    "print(\"modèle 2 score (R²) pour le training set :\",model2.score(x_train2,y_train2))"
   ]
  },
  {
   "cell_type": "code",
   "execution_count": 146,
   "metadata": {},
   "outputs": [
    {
     "name": "stdout",
     "output_type": "stream",
     "text": [
      " moyenne des erreurs entre la prédiction et le résultat :\n",
      " pour le modèle 2 : 58.79387123449929\n"
     ]
    }
   ],
   "source": [
    "predict2=model2.predict(x_test2)\n",
    "predict2[predict2<0]=1\n",
    "print(\" moyenne des erreurs entre la prédiction et le résultat :\")\n",
    "print(\" pour le modèle 2 :\",mean_absolute_error(predict2,y_test2))"
   ]
  },
  {
   "cell_type": "markdown",
   "metadata": {},
   "source": [
    "##### On voit que la moyenne des erreurs a considérablement diminué (de 80 à 58 vélos). Le R² du modèle également, donc le modèle polynomial explique mieux la variable count que le modèle de régression linéaire vu précédemment. Le risque d'un tel modèle est l'overfitting, cependant, utiliser un regularizer permet de se protéger de ce risque. "
   ]
  },
  {
   "cell_type": "markdown",
   "metadata": {},
   "source": [
    "#### le modèle polynomial (que l'on a utilisé que pour le modèle 2 car le modèle 1 possède trop de varaible binaire pour qu'un modèle polynomial soit correctement utilisable) a permis de réduire l'erreur moyenne.\n",
    "#### On va maintenant utiliser un modèle plus puissant d'arbre de décision pour prédire la valeur de la variable count. "
   ]
  },
  {
   "cell_type": "markdown",
   "metadata": {},
   "source": [
    "### random forest regressor"
   ]
  },
  {
   "cell_type": "code",
   "execution_count": 147,
   "metadata": {},
   "outputs": [],
   "source": [
    "from sklearn.ensemble import RandomForestRegressor"
   ]
  },
  {
   "cell_type": "code",
   "execution_count": 148,
   "metadata": {},
   "outputs": [
    {
     "name": "stdout",
     "output_type": "stream",
     "text": [
      "Score (R²) pour le training set du modèle 1 : 0.5455693664372517\n",
      "Score (R²) pour le testing set du modèle 1 : 0.4966592343499893\n",
      "Score (R²) pour le training set du modèle 2 : 0.6939159965450223\n",
      "Score (R²) pour le testing set du modèle 2 : 0.6839436122243644\n"
     ]
    }
   ],
   "source": [
    "## decision tree\n",
    "Forest1=RandomForestRegressor(n_estimators=200, max_leaf_nodes=20, bootstrap=False)\n",
    "Forest1.fit(x_train1,y_train1)\n",
    "print(\"Score (R²) pour le training set du modèle 1 :\",Forest1.score(x_train1,y_train1))\n",
    "print(\"Score (R²) pour le testing set du modèle 1 :\",Forest1.score(x_test1,y_test1))\n",
    "\n",
    "Forest2=RandomForestRegressor(n_estimators=200, max_leaf_nodes=20, bootstrap=False)\n",
    "Forest2.fit(x_train2,y_train2)\n",
    "print(\"Score (R²) pour le training set du modèle 2 :\",Forest2.score(x_train2,y_train2))\n",
    "print(\"Score (R²) pour le testing set du modèle 2 :\",Forest2.score(x_test2,y_test2))"
   ]
  },
  {
   "cell_type": "code",
   "execution_count": 149,
   "metadata": {},
   "outputs": [
    {
     "name": "stdout",
     "output_type": "stream",
     "text": [
      " moyenne des erreurs entre la prédiction et le résultat :\n",
      " pour le modèle 1 : 101.30667500125845\n",
      " \n",
      " moyenne des erreurs entre la prédiction et le résultat :\n",
      " pour le modèle 2 : 70.88000077677809\n"
     ]
    }
   ],
   "source": [
    "predict1=Forest1.predict(x_test1)\n",
    "predict1[predict1<0]=1\n",
    "print(\" moyenne des erreurs entre la prédiction et le résultat :\")\n",
    "print(\" pour le modèle 1 :\",mean_absolute_error(predict1,y_test1))\n",
    "print(\" \")\n",
    "predict2=Forest2.predict(x_test2)\n",
    "predict2[predict2<0]=1\n",
    "print(\" moyenne des erreurs entre la prédiction et le résultat :\")\n",
    "print(\" pour le modèle 2 :\",mean_absolute_error(predict2,y_test2))"
   ]
  },
  {
   "cell_type": "markdown",
   "metadata": {},
   "source": [
    "#### les erreurs sont encore très larges, le modèle qui suit les réduit grandement"
   ]
  },
  {
   "cell_type": "code",
   "execution_count": 150,
   "metadata": {},
   "outputs": [],
   "source": [
    "from sklearn.ensemble import GradientBoostingRegressor"
   ]
  },
  {
   "cell_type": "code",
   "execution_count": 151,
   "metadata": {},
   "outputs": [
    {
     "name": "stdout",
     "output_type": "stream",
     "text": [
      "R² pour le training set du modèle 1 : 0.9805545922638343\n",
      "R² pour le testing set du modèle 1 : 0.9322151005257636\n",
      " moyenne des erreurs entre la prédiction et le résultat :\n",
      " pour le modèle 1 : 29.391735154968185\n"
     ]
    }
   ],
   "source": [
    "# gradient boosting pour le modèle 1\n",
    "Boosting1=GradientBoostingRegressor(learning_rate=0.1, n_estimators=1000, max_leaf_nodes=50)\n",
    "Boosting1.fit(x_train1,y_train1)\n",
    "predict1=Boosting1.predict(x_test1)\n",
    "predict1[predict1<0]=1\n",
    "print(\"R² pour le training set du modèle 1 :\",Boosting1.score(x_train1,y_train1))\n",
    "print(\"R² pour le testing set du modèle 1 :\",Boosting1.score(x_test1,y_test1))\n",
    "print(\" moyenne des erreurs entre la prédiction et le résultat :\")\n",
    "print(\" pour le modèle 1 :\",mean_absolute_error(predict1,y_test1))"
   ]
  },
  {
   "cell_type": "markdown",
   "metadata": {},
   "source": [
    "##### l'erreur moyenne descend à environ 28 vélos, essayons de faire mieux"
   ]
  },
  {
   "cell_type": "markdown",
   "metadata": {},
   "source": [
    "#### ajoutons les jours de la semaine et les horaires au modèle 2"
   ]
  },
  {
   "cell_type": "code",
   "execution_count": 152,
   "metadata": {},
   "outputs": [],
   "source": [
    "columns3=columns2+[\"dayofweek\"]+[\"hour\"]\n",
    "columns3=list(set(columns3))\n",
    "\n",
    "data_ml3=data[columns3]\n",
    "train3, test3 = train_test_split(data_ml3, test_size=0.2)\n",
    "y_train3 = train3['count']\n",
    "x_train3 = train3.drop(['count'], axis=1)\n",
    "y_test3 = test3['count']\n",
    "x_test3 = test3.drop(['count'], axis=1)"
   ]
  },
  {
   "cell_type": "code",
   "execution_count": 153,
   "metadata": {},
   "outputs": [
    {
     "name": "stdout",
     "output_type": "stream",
     "text": [
      "R² pour le training set du modèle 1 : 0.9724193673461959\n",
      "R² pour le testing set du modèle 1 : 0.9573827730444505\n",
      " moyenne des erreurs entre la prédiction et le résultat :\n",
      " pour le modèle 3 : 24.556709059565136\n"
     ]
    }
   ],
   "source": [
    "## gradient boosting sur le modèle 2 auquel j'ai ajouté 2 features (jour de la semaine et heure).\n",
    "## Cela prend près d'une minute sur mon ordinateur\n",
    "Boosting3=GradientBoostingRegressor(learning_rate=0.05, n_estimators=1000, max_leaf_nodes=85)\n",
    "Boosting3.fit(x_train3,y_train3)\n",
    "predict3=Boosting3.predict(x_test3)\n",
    "predict3[predict3<0]=1\n",
    "print(\"R² pour le training set du modèle 1 :\",Boosting3.score(x_train3,y_train3))\n",
    "print(\"R² pour le testing set du modèle 1 :\",Boosting3.score(x_test3,y_test3))\n",
    "print(\" moyenne des erreurs entre la prédiction et le résultat :\")\n",
    "print(\" pour le modèle 3 :\",mean_absolute_error(predict3,y_test3))"
   ]
  },
  {
   "cell_type": "markdown",
   "metadata": {},
   "source": [
    "#### moins de 26 vélos pour l'erreur moyenne, j'affiche maintenant l'importance des features dans cette classification"
   ]
  },
  {
   "cell_type": "code",
   "execution_count": 154,
   "metadata": {},
   "outputs": [
    {
     "data": {
      "text/plain": [
       "<Figure size 432x288 with 0 Axes>"
      ]
     },
     "metadata": {},
     "output_type": "display_data"
    },
    {
     "data": {
      "image/png": "[encoded data removed]",
      "text/plain": [
       "<Figure size 1152x432 with 1 Axes>"
      ]
     },
     "metadata": {
      "needs_background": "light"
     },
     "output_type": "display_data"
    }
   ],
   "source": [
    "#############\n",
    "\n",
    "col1=np.array(x_train3.columns.values.tolist())\n",
    "importances = Boosting3.feature_importances_\n",
    "indices = np.argsort(importances)[::-1]\n",
    "\n",
    "# visualisation de l'importance des features\n",
    "plt.clf()\n",
    "plt.figure(figsize=(16,6))\n",
    "plt.title(\"Feature importance\")\n",
    "plt.bar(range(x_train3.shape[1]), importances[indices],color=\"r\", align=\"center\")\n",
    "plt.xticks(range(x_train3.shape[1]), col1[indices],rotation=90)\n",
    "plt.xlim([-1, x_train3.shape[1]])\n",
    "plt.show()"
   ]
  },
  {
   "cell_type": "code",
   "execution_count": 155,
   "metadata": {},
   "outputs": [
    {
     "name": "stdout",
     "output_type": "stream",
     "text": [
      "Requirement already satisfied: plotly in c:\\users\\x380\\anaconda3\\lib\\site-packages (4.14.3)\n",
      "Requirement already satisfied: six in c:\\users\\x380\\anaconda3\\lib\\site-packages (from plotly) (1.12.0)\n",
      "Requirement already satisfied: retrying>=1.3.3 in c:\\users\\x380\\anaconda3\\lib\\site-packages (from plotly) (1.3.3)\n"
     ]
    }
   ],
   "source": [
    "!pip install plotly"
   ]
  },
  {
   "cell_type": "code",
   "execution_count": 156,
   "metadata": {},
   "outputs": [
    {
     "name": "stdout",
     "output_type": "stream",
     "text": [
      "Requirement already satisfied: chart_studio in c:\\users\\x380\\anaconda3\\lib\\site-packages (1.1.0)\n",
      "Requirement already satisfied: six in c:\\users\\x380\\anaconda3\\lib\\site-packages (from chart_studio) (1.12.0)\n",
      "Requirement already satisfied: requests in c:\\users\\x380\\anaconda3\\lib\\site-packages (from chart_studio) (2.4.3)\n",
      "Requirement already satisfied: plotly in c:\\users\\x380\\anaconda3\\lib\\site-packages (from chart_studio) (4.14.3)\n",
      "Requirement already satisfied: retrying>=1.3.3 in c:\\users\\x380\\anaconda3\\lib\\site-packages (from chart_studio) (1.3.3)\n"
     ]
    }
   ],
   "source": [
    "!pip install chart_studio"
   ]
  },
  {
   "cell_type": "code",
   "execution_count": 157,
   "metadata": {},
   "outputs": [
    {
     "data": {
      "image/png": "[encoded data removed]",
      "text/plain": [
       "<Figure size 432x288 with 1 Axes>"
      ]
     },
     "metadata": {
      "needs_background": "light"
     },
     "output_type": "display_data"
    }
   ],
   "source": [
    "import matplotlib.pyplot as plt\n",
    "#import plotly.plotly as py\n",
    "import chart_studio.plotly as py\n",
    "\n",
    "plt.plot(np.array(y_test3.head(120)),'o')\n",
    "plt.plot(predict3[0:120],'r')\n",
    "plt.title(\"les points correspondent aux vraies valeurs, \\n en rouge les prédictions\")\n",
    "plt.xlabel(\"120 premières prédictions\")\n",
    "plt.show()"
   ]
  },
  {
   "cell_type": "markdown",
   "metadata": {},
   "source": [
    "#### On teste maintenant tous les features pour le gradient boosting. Cela donne le meilleur résultat. (Cela prend près d'une minute sur mon ordinateur)"
   ]
  },
  {
   "cell_type": "code",
   "execution_count": 158,
   "metadata": {},
   "outputs": [],
   "source": [
    "# tous les features \n",
    "columns3=columns1+[\"dayofweek\"]+[\"hour\"]\n",
    "columns3=list(set(columns3))"
   ]
  },
  {
   "cell_type": "code",
   "execution_count": 159,
   "metadata": {},
   "outputs": [],
   "source": [
    "columns3;"
   ]
  },
  {
   "cell_type": "code",
   "execution_count": 160,
   "metadata": {},
   "outputs": [],
   "source": [
    "data_ml3=data[columns3]\n",
    "train3, test3 = train_test_split(data_ml3, test_size=0.2)\n",
    "y_train3 = train3['count']\n",
    "x_train3 = train3.drop(['count'], axis=1)\n",
    "y_test3 = test3['count']\n",
    "x_test3 = test3.drop(['count'], axis=1)"
   ]
  },
  {
   "cell_type": "code",
   "execution_count": 161,
   "metadata": {},
   "outputs": [
    {
     "name": "stdout",
     "output_type": "stream",
     "text": [
      "R² pour le training set du modèle 1 : 0.9729157395308565\n",
      "R² pour le testing set du modèle 1 : 0.9427065349118202\n",
      " moyenne des erreurs entre la prédiction et le résultat :\n",
      " pour le modèle 3 : 26.764255403470038\n"
     ]
    }
   ],
   "source": [
    "## avec les nombreux features utilisés, cela prend près de 2 minutes\n",
    "Boosting3=GradientBoostingRegressor(learning_rate=0.05, n_estimators=1000, max_leaf_nodes=85)\n",
    "Boosting3.fit(x_train3,y_train3)\n",
    "predict3=Boosting3.predict(x_test3)\n",
    "predict3[predict3<0]=1\n",
    "print(\"R² pour le training set du modèle 1 :\",Boosting3.score(x_train3,y_train3))\n",
    "print(\"R² pour le testing set du modèle 1 :\",Boosting3.score(x_test3,y_test3))\n",
    "print(\" moyenne des erreurs entre la prédiction et le résultat :\")\n",
    "print(\" pour le modèle 3 :\",mean_absolute_error(predict3,y_test3))"
   ]
  },
  {
   "cell_type": "code",
   "execution_count": 162,
   "metadata": {},
   "outputs": [
    {
     "data": {
      "text/plain": [
       "<Figure size 432x288 with 0 Axes>"
      ]
     },
     "metadata": {},
     "output_type": "display_data"
    },
    {
     "data": {
      "image/png": "[encoded data removed]",
      "text/plain": [
       "<Figure size 1152x432 with 1 Axes>"
      ]
     },
     "metadata": {
      "needs_background": "light"
     },
     "output_type": "display_data"
    }
   ],
   "source": [
    "#############\n",
    "\n",
    "col1=np.array(x_train3.columns.values.tolist())\n",
    "importances = Boosting3.feature_importances_\n",
    "indices = np.argsort(importances)[::-1]\n",
    "\n",
    "# visualisation de l'importance des features\n",
    "plt.clf()\n",
    "plt.figure(figsize=(16,6))\n",
    "plt.title(\"Feature importance\")\n",
    "plt.bar(range(x_train3.shape[1]), importances[indices],color=\"r\", align=\"center\")\n",
    "plt.xticks(range(x_train3.shape[1]), col1[indices],rotation=90)\n",
    "plt.xlim([-1, x_train3.shape[1]])\n",
    "plt.show()"
   ]
  },
  {
   "cell_type": "markdown",
   "metadata": {},
   "source": [
    "##### on remarque que ce modèle est très bon en terme de prédiction et de R². "
   ]
  },
  {
   "cell_type": "markdown",
   "metadata": {},
   "source": [
    "#### testons cet algorithme sur le modèle 2"
   ]
  },
  {
   "cell_type": "markdown",
   "metadata": {},
   "source": [
    "### Pour quelles dates a-t-on des erreurs importantes dans les prédictions  ?"
   ]
  },
  {
   "cell_type": "code",
   "execution_count": 163,
   "metadata": {
    "scrolled": true
   },
   "outputs": [],
   "source": [
    "# essayons de voir à quelles dates il y a un grand écart (plus de 99 vélos) entre la prédiction\n",
    "# et la valeur effective\n",
    "x_test_outlier=pd.DataFrame(columns=(['timediff',\"erreurs\"]))\n",
    "y_predict=predict1\n",
    "j=0\n",
    "for i in range(0,len(y_test1)):\n",
    "    error = m.sqrt((y_test1.iloc[[i]]-y_predict[i])**2)\n",
    "    if error>99:\n",
    "        #print(error)\n",
    "        #print(np.array(x_test1[\"timediff\"].iloc[[i]]).tolist()[0])\n",
    "        x_test_outlier.loc[j]=[np.array(x_test1[\"timediff\"].iloc[[i]])[0],error]      \n",
    "        j=j+1"
   ]
  },
  {
   "cell_type": "code",
   "execution_count": 164,
   "metadata": {},
   "outputs": [],
   "source": [
    "x_test_outlier;\n",
    "groups=x_test_outlier.groupby([\"timediff\"])\n",
    "timediff_count=pd.DataFrame(columns=['jour numéro :',\"occurence\",'erreur moyenne'])\n",
    "i=0\n",
    "for key,df in groups:\n",
    "    timediff_count.loc[i]=[key,df[\"timediff\"].count(),df[\"erreurs\"].mean()]\n",
    "    i=i+1"
   ]
  },
  {
   "cell_type": "code",
   "execution_count": 165,
   "metadata": {},
   "outputs": [
    {
     "data": {
      "text/plain": [
       "jour numéro :     710.000000\n",
       "occurence           4.000000\n",
       "erreur moyenne    288.580598\n",
       "dtype: float64"
      ]
     },
     "execution_count": 165,
     "metadata": {},
     "output_type": "execute_result"
    }
   ],
   "source": [
    "timediff_count.max()"
   ]
  },
  {
   "cell_type": "markdown",
   "metadata": {},
   "source": [
    "### quels jours ont des prédictions qui s'éloignent des vraies valeurs à plusieurs moment de la journée ?"
   ]
  },
  {
   "cell_type": "code",
   "execution_count": 166,
   "metadata": {},
   "outputs": [],
   "source": [
    "# quels jours ont des prédictions qui s'éloignent des vraies valeurs à plusieurs moment de la journée ?\n",
    "badprediction=timediff_count[timediff_count['occurence']==timediff_count[\"occurence\"].max()]\n",
    "badprediction_1=timediff_count[timediff_count['occurence']==timediff_count[\"occurence\"].max()-1]"
   ]
  },
  {
   "cell_type": "code",
   "execution_count": 167,
   "metadata": {},
   "outputs": [
    {
     "name": "stdout",
     "output_type": "stream",
     "text": [
      "pour les jours ci-dessous, il y a 4.0 moments de la journée pour lesquels la prédiction a dépassé 99 vélos d'erreur\n"
     ]
    },
    {
     "data": {
      "text/html": [
       "<div>\n",
       "<style scoped>\n",
       "    .dataframe tbody tr th:only-of-type {\n",
       "        vertical-align: middle;\n",
       "    }\n",
       "\n",
       "    .dataframe tbody tr th {\n",
       "        vertical-align: top;\n",
       "    }\n",
       "\n",
       "    .dataframe thead th {\n",
       "        text-align: right;\n",
       "    }\n",
       "</style>\n",
       "<table border=\"1\" class=\"dataframe\">\n",
       "  <thead>\n",
       "    <tr style=\"text-align: right;\">\n",
       "      <th></th>\n",
       "      <th>jour numéro :</th>\n",
       "      <th>occurence</th>\n",
       "      <th>erreur moyenne</th>\n",
       "    </tr>\n",
       "  </thead>\n",
       "  <tbody>\n",
       "    <tr>\n",
       "      <th>0</th>\n",
       "      <td>105.0</td>\n",
       "      <td>4.0</td>\n",
       "      <td>137.592687</td>\n",
       "    </tr>\n",
       "    <tr>\n",
       "      <th>19</th>\n",
       "      <td>442.0</td>\n",
       "      <td>4.0</td>\n",
       "      <td>153.631050</td>\n",
       "    </tr>\n",
       "  </tbody>\n",
       "</table>\n",
       "</div>"
      ],
      "text/plain": [
       "    jour numéro :  occurence  erreur moyenne\n",
       "0           105.0        4.0      137.592687\n",
       "19          442.0        4.0      153.631050"
      ]
     },
     "execution_count": 167,
     "metadata": {},
     "output_type": "execute_result"
    }
   ],
   "source": [
    "print(\"pour les jours ci-dessous, il y a %s moments de la journée pour lesquels la prédiction a dépassé 99 vélos d'erreur\"%timediff_count[\"occurence\"].max())\n",
    "badprediction"
   ]
  },
  {
   "cell_type": "code",
   "execution_count": 168,
   "metadata": {},
   "outputs": [
    {
     "name": "stdout",
     "output_type": "stream",
     "text": [
      "pour les jours ci-dessous, il y a 3.0 moments de la journée pour lesquels la prédiction a dépassé 99 vélos d'erreur\n"
     ]
    },
    {
     "data": {
      "text/html": [
       "<div>\n",
       "<style scoped>\n",
       "    .dataframe tbody tr th:only-of-type {\n",
       "        vertical-align: middle;\n",
       "    }\n",
       "\n",
       "    .dataframe tbody tr th {\n",
       "        vertical-align: top;\n",
       "    }\n",
       "\n",
       "    .dataframe thead th {\n",
       "        text-align: right;\n",
       "    }\n",
       "</style>\n",
       "<table border=\"1\" class=\"dataframe\">\n",
       "  <thead>\n",
       "    <tr style=\"text-align: right;\">\n",
       "      <th></th>\n",
       "      <th>jour numéro :</th>\n",
       "      <th>occurence</th>\n",
       "      <th>erreur moyenne</th>\n",
       "    </tr>\n",
       "  </thead>\n",
       "  <tbody>\n",
       "    <tr>\n",
       "      <th>22</th>\n",
       "      <td>463.0</td>\n",
       "      <td>3.0</td>\n",
       "      <td>113.374458</td>\n",
       "    </tr>\n",
       "    <tr>\n",
       "      <th>62</th>\n",
       "      <td>641.0</td>\n",
       "      <td>3.0</td>\n",
       "      <td>288.580598</td>\n",
       "    </tr>\n",
       "  </tbody>\n",
       "</table>\n",
       "</div>"
      ],
      "text/plain": [
       "    jour numéro :  occurence  erreur moyenne\n",
       "22          463.0        3.0      113.374458\n",
       "62          641.0        3.0      288.580598"
      ]
     },
     "execution_count": 168,
     "metadata": {},
     "output_type": "execute_result"
    }
   ],
   "source": [
    "print(\"pour les jours ci-dessous, il y a %s moments de la journée pour lesquels la prédiction a dépassé 99 vélos d'erreur\"%(timediff_count[\"occurence\"].max()-1))\n",
    "badprediction_1"
   ]
  },
  {
   "cell_type": "code",
   "execution_count": null,
   "metadata": {},
   "outputs": [],
   "source": []
  },
  {
   "cell_type": "code",
   "execution_count": null,
   "metadata": {},
   "outputs": [],
   "source": []
  }
 ],
 "metadata": {
  "anaconda-cloud": {},
  "kernelspec": {
   "display_name": "Python 3",
   "language": "python",
   "name": "python3"
  },
  "language_info": {
   "codemirror_mode": {
    "name": "ipython",
    "version": 3
   },
   "file_extension": ".py",
   "mimetype": "text/x-python",
   "name": "python",
   "nbconvert_exporter": "python",
   "pygments_lexer": "ipython3",
   "version": "3.7.3"
  }
 },
 "nbformat": 4,
 "nbformat_minor": 1
}
